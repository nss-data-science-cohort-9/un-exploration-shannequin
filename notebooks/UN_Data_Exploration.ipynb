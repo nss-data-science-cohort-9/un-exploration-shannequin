{
 "cells": [
  {
   "cell_type": "markdown",
   "id": "8507fdf6-4d68-4df8-aaf9-42cfe83f1bde",
   "metadata": {},
   "source": [
    "# An Exploration of UN data\n",
    "In this project, you'll be doing some exploratory analysis on two country-level metrics, gross domestic product (GDP) per capita and overall life expectancy. After completing the guided practice section, you will have a chance to find some additional data and do some more exploring of your own.\n",
    "\n",
    "## Guided Practice:"
   ]
  },
  {
   "attachments": {},
   "cell_type": "markdown",
   "id": "84820ede-721c-488d-8765-921eb8638b42",
   "metadata": {},
   "source": [
    "### 1. Download the Gross Domestic Product (GDP) per capita dataset\n",
    "from http://data.un.org/Data.aspx?d=WDI&f=Indicator_Code%3aNY.GDP.PCAP.PP.KD. Rename it to gdp_per_capita.csv and place it in the data folder of your project repository.\n",
    "\n",
    "### 2. Create a Jupyter Notebook in the notebooks folder and name it UN_Data_Exploration.\n",
    "You are likely to get errors along the way. When you do, read the errors to try to understand what is happening and how to correct it.\n",
    "Use markdown cells to record your answers to any questions asked in this exercise. On the menu bar, you can toggle the cell type from 'Code' to 'Markdown'. Here is a link to a cheat sheet showing the basics of styling text using Markdown.\n",
    "\n",
    "### 3. In the first cell of your notebook, import the required packages with their customary aliases as follows:\n",
    "import pandas as pd\n",
    "import numpy as np\n",
    "import matplotlib.pyplot as plt\n",
    "import seaborn as sns\n",
    "\n",
    "Keep all imports in this cell at the top of your notebook."
   ]
  },
  {
   "cell_type": "code",
   "execution_count": 1,
   "id": "d95f71f6-4c8d-4428-a560-2c382e2d8506",
   "metadata": {},
   "outputs": [],
   "source": [
    "import matplotlib.pyplot as plt\n",
    "import numpy as np\n",
    "import pandas as pd\n",
    "import seaborn as sns"
   ]
  },
  {
   "cell_type": "markdown",
   "id": "67dfcc30-703a-42c5-b4ae-9dedfc21da82",
   "metadata": {},
   "source": [
    "### 4. Using the pandas read_csv() function, read the GDP dataset into your notebook as a DataFrame called gdp_df.\n",
    "After reading it in, inspect the first 10 rows and then inspect the last 10 rows."
   ]
  },
  {
   "cell_type": "code",
   "execution_count": 2,
   "id": "c0af7ddd-4960-45a4-830e-1f38137868bf",
   "metadata": {},
   "outputs": [],
   "source": [
    "# READ DATA\n",
    "gdp_df = pd.read_csv('../data/gdp_per_capita.csv')"
   ]
  },
  {
   "cell_type": "code",
   "execution_count": 3,
   "id": "bb74211b-6bc7-4cf0-9b38-c1a32ea2e936",
   "metadata": {},
   "outputs": [
    {
     "data": {
      "text/html": [
       "<div>\n",
       "<style scoped>\n",
       "    .dataframe tbody tr th:only-of-type {\n",
       "        vertical-align: middle;\n",
       "    }\n",
       "\n",
       "    .dataframe tbody tr th {\n",
       "        vertical-align: top;\n",
       "    }\n",
       "\n",
       "    .dataframe thead th {\n",
       "        text-align: right;\n",
       "    }\n",
       "</style>\n",
       "<table border=\"1\" class=\"dataframe\">\n",
       "  <thead>\n",
       "    <tr style=\"text-align: right;\">\n",
       "      <th></th>\n",
       "      <th>Country or Area</th>\n",
       "      <th>Year</th>\n",
       "      <th>Value</th>\n",
       "      <th>Value Footnotes</th>\n",
       "    </tr>\n",
       "  </thead>\n",
       "  <tbody>\n",
       "    <tr>\n",
       "      <th>0</th>\n",
       "      <td>Afghanistan</td>\n",
       "      <td>2023</td>\n",
       "      <td>1992.424394</td>\n",
       "      <td>NaN</td>\n",
       "    </tr>\n",
       "    <tr>\n",
       "      <th>1</th>\n",
       "      <td>Afghanistan</td>\n",
       "      <td>2022</td>\n",
       "      <td>1981.710168</td>\n",
       "      <td>NaN</td>\n",
       "    </tr>\n",
       "    <tr>\n",
       "      <th>2</th>\n",
       "      <td>Afghanistan</td>\n",
       "      <td>2021</td>\n",
       "      <td>2144.166570</td>\n",
       "      <td>NaN</td>\n",
       "    </tr>\n",
       "    <tr>\n",
       "      <th>3</th>\n",
       "      <td>Afghanistan</td>\n",
       "      <td>2020</td>\n",
       "      <td>2769.685745</td>\n",
       "      <td>NaN</td>\n",
       "    </tr>\n",
       "    <tr>\n",
       "      <th>4</th>\n",
       "      <td>Afghanistan</td>\n",
       "      <td>2019</td>\n",
       "      <td>2927.245144</td>\n",
       "      <td>NaN</td>\n",
       "    </tr>\n",
       "    <tr>\n",
       "      <th>5</th>\n",
       "      <td>Afghanistan</td>\n",
       "      <td>2018</td>\n",
       "      <td>2902.392113</td>\n",
       "      <td>NaN</td>\n",
       "    </tr>\n",
       "    <tr>\n",
       "      <th>6</th>\n",
       "      <td>Afghanistan</td>\n",
       "      <td>2017</td>\n",
       "      <td>2952.998916</td>\n",
       "      <td>NaN</td>\n",
       "    </tr>\n",
       "    <tr>\n",
       "      <th>7</th>\n",
       "      <td>Afghanistan</td>\n",
       "      <td>2016</td>\n",
       "      <td>2958.785399</td>\n",
       "      <td>NaN</td>\n",
       "    </tr>\n",
       "    <tr>\n",
       "      <th>8</th>\n",
       "      <td>Afghanistan</td>\n",
       "      <td>2015</td>\n",
       "      <td>2967.692067</td>\n",
       "      <td>NaN</td>\n",
       "    </tr>\n",
       "    <tr>\n",
       "      <th>9</th>\n",
       "      <td>Afghanistan</td>\n",
       "      <td>2014</td>\n",
       "      <td>3017.942544</td>\n",
       "      <td>NaN</td>\n",
       "    </tr>\n",
       "  </tbody>\n",
       "</table>\n",
       "</div>"
      ],
      "text/plain": [
       "  Country or Area  Year        Value  Value Footnotes\n",
       "0     Afghanistan  2023  1992.424394              NaN\n",
       "1     Afghanistan  2022  1981.710168              NaN\n",
       "2     Afghanistan  2021  2144.166570              NaN\n",
       "3     Afghanistan  2020  2769.685745              NaN\n",
       "4     Afghanistan  2019  2927.245144              NaN\n",
       "5     Afghanistan  2018  2902.392113              NaN\n",
       "6     Afghanistan  2017  2952.998916              NaN\n",
       "7     Afghanistan  2016  2958.785399              NaN\n",
       "8     Afghanistan  2015  2967.692067              NaN\n",
       "9     Afghanistan  2014  3017.942544              NaN"
      ]
     },
     "execution_count": 3,
     "metadata": {},
     "output_type": "execute_result"
    }
   ],
   "source": [
    "# DISPLAY TOP 10 ROWS\n",
    "gdp_df.head(10)"
   ]
  },
  {
   "cell_type": "code",
   "execution_count": 4,
   "id": "95505413-3f82-4642-9d28-8c2b6590504b",
   "metadata": {},
   "outputs": [
    {
     "data": {
      "text/html": [
       "<div>\n",
       "<style scoped>\n",
       "    .dataframe tbody tr th:only-of-type {\n",
       "        vertical-align: middle;\n",
       "    }\n",
       "\n",
       "    .dataframe tbody tr th {\n",
       "        vertical-align: top;\n",
       "    }\n",
       "\n",
       "    .dataframe thead th {\n",
       "        text-align: right;\n",
       "    }\n",
       "</style>\n",
       "<table border=\"1\" class=\"dataframe\">\n",
       "  <thead>\n",
       "    <tr style=\"text-align: right;\">\n",
       "      <th></th>\n",
       "      <th>Country or Area</th>\n",
       "      <th>Year</th>\n",
       "      <th>Value</th>\n",
       "      <th>Value Footnotes</th>\n",
       "    </tr>\n",
       "  </thead>\n",
       "  <tbody>\n",
       "    <tr>\n",
       "      <th>8209</th>\n",
       "      <td>Zimbabwe</td>\n",
       "      <td>1999</td>\n",
       "      <td>4238.195198</td>\n",
       "      <td>NaN</td>\n",
       "    </tr>\n",
       "    <tr>\n",
       "      <th>8210</th>\n",
       "      <td>Zimbabwe</td>\n",
       "      <td>1998</td>\n",
       "      <td>4342.858177</td>\n",
       "      <td>NaN</td>\n",
       "    </tr>\n",
       "    <tr>\n",
       "      <th>8211</th>\n",
       "      <td>Zimbabwe</td>\n",
       "      <td>1997</td>\n",
       "      <td>4304.406272</td>\n",
       "      <td>NaN</td>\n",
       "    </tr>\n",
       "    <tr>\n",
       "      <th>8212</th>\n",
       "      <td>Zimbabwe</td>\n",
       "      <td>1996</td>\n",
       "      <td>4271.479930</td>\n",
       "      <td>NaN</td>\n",
       "    </tr>\n",
       "    <tr>\n",
       "      <th>8213</th>\n",
       "      <td>Zimbabwe</td>\n",
       "      <td>1995</td>\n",
       "      <td>3935.280057</td>\n",
       "      <td>NaN</td>\n",
       "    </tr>\n",
       "    <tr>\n",
       "      <th>8214</th>\n",
       "      <td>Zimbabwe</td>\n",
       "      <td>1994</td>\n",
       "      <td>3965.730986</td>\n",
       "      <td>NaN</td>\n",
       "    </tr>\n",
       "    <tr>\n",
       "      <th>8215</th>\n",
       "      <td>Zimbabwe</td>\n",
       "      <td>1993</td>\n",
       "      <td>3634.750494</td>\n",
       "      <td>NaN</td>\n",
       "    </tr>\n",
       "    <tr>\n",
       "      <th>8216</th>\n",
       "      <td>Zimbabwe</td>\n",
       "      <td>1992</td>\n",
       "      <td>3649.891947</td>\n",
       "      <td>NaN</td>\n",
       "    </tr>\n",
       "    <tr>\n",
       "      <th>8217</th>\n",
       "      <td>Zimbabwe</td>\n",
       "      <td>1991</td>\n",
       "      <td>4126.405247</td>\n",
       "      <td>NaN</td>\n",
       "    </tr>\n",
       "    <tr>\n",
       "      <th>8218</th>\n",
       "      <td>Zimbabwe</td>\n",
       "      <td>1990</td>\n",
       "      <td>4013.299059</td>\n",
       "      <td>NaN</td>\n",
       "    </tr>\n",
       "  </tbody>\n",
       "</table>\n",
       "</div>"
      ],
      "text/plain": [
       "     Country or Area  Year        Value  Value Footnotes\n",
       "8209        Zimbabwe  1999  4238.195198              NaN\n",
       "8210        Zimbabwe  1998  4342.858177              NaN\n",
       "8211        Zimbabwe  1997  4304.406272              NaN\n",
       "8212        Zimbabwe  1996  4271.479930              NaN\n",
       "8213        Zimbabwe  1995  3935.280057              NaN\n",
       "8214        Zimbabwe  1994  3965.730986              NaN\n",
       "8215        Zimbabwe  1993  3634.750494              NaN\n",
       "8216        Zimbabwe  1992  3649.891947              NaN\n",
       "8217        Zimbabwe  1991  4126.405247              NaN\n",
       "8218        Zimbabwe  1990  4013.299059              NaN"
      ]
     },
     "execution_count": 4,
     "metadata": {},
     "output_type": "execute_result"
    }
   ],
   "source": [
    "# DISPLAY BOTTOM 10 ROWS\n",
    "gdp_df.tail(10)"
   ]
  },
  {
   "cell_type": "markdown",
   "id": "6354e6a6-7e3e-45e4-a2c3-fcfea5b59a70",
   "metadata": {},
   "source": [
    "### 5. Drop the 'Value Footnotes' column, and rename the remaining columns to 'Country', 'Year', and 'GDP_Per_Capita'."
   ]
  },
  {
   "cell_type": "code",
   "execution_count": 5,
   "id": "f669f28f-1c63-4460-af4d-680ffee1b527",
   "metadata": {},
   "outputs": [],
   "source": [
    "gdp_df = (\n",
    "    gdp_df\n",
    "    .drop(columns=['Value Footnotes']) # DROP COLUMN\n",
    "    .rename(columns={'Country or Area': 'Country', 'Value': 'GDP_Per_Capita'}) # RENAME COLUMNS\n",
    ")"
   ]
  },
  {
   "cell_type": "markdown",
   "id": "94456c21-bc44-4a31-b800-8b3532c1e44b",
   "metadata": {},
   "source": [
    "### 6. How many rows and columns does gdp_df have?\n",
    "What are the data types of its columns?<br>\n",
    "If any of the columns are not the expected types, figure out why and fix it."
   ]
  },
  {
   "cell_type": "code",
   "execution_count": 6,
   "id": "8b80a4d4-ba35-45a5-8e90-086a267c831f",
   "metadata": {},
   "outputs": [
    {
     "name": "stdout",
     "output_type": "stream",
     "text": [
      "ANSWER: gdp_df contains 8219 rows and 3 columns\n"
     ]
    }
   ],
   "source": [
    "print(f'ANSWER: gdp_df contains {gdp_df.shape[0]} rows and {gdp_df.shape[1]} columns')"
   ]
  },
  {
   "cell_type": "code",
   "execution_count": 7,
   "id": "13c1b04d-bc3c-485d-982f-11e179c11312",
   "metadata": {},
   "outputs": [
    {
     "name": "stdout",
     "output_type": "stream",
     "text": [
      "<class 'pandas.core.frame.DataFrame'>\n",
      "RangeIndex: 8219 entries, 0 to 8218\n",
      "Data columns (total 3 columns):\n",
      " #   Column          Non-Null Count  Dtype  \n",
      "---  ------          --------------  -----  \n",
      " 0   Country         8219 non-null   object \n",
      " 1   Year            8219 non-null   int64  \n",
      " 2   GDP_Per_Capita  8219 non-null   float64\n",
      "dtypes: float64(1), int64(1), object(1)\n",
      "memory usage: 192.8+ KB\n"
     ]
    }
   ],
   "source": [
    "# DISPLAY DATAFRAME INFO\n",
    "gdp_df.info()"
   ]
  },
  {
   "cell_type": "markdown",
   "id": "b2e2a9fb-9511-4a52-8011-88b12c35f422",
   "metadata": {},
   "source": [
    "#### Answer: No unexpected column types."
   ]
  },
  {
   "cell_type": "markdown",
   "id": "2638f619-adad-4354-ae49-87d14c6152ba",
   "metadata": {},
   "source": [
    "### 7. Which years are represented in this dataset?\n",
    "Take a look at the number of observations per year.<br>\n",
    "What do you notice?"
   ]
  },
  {
   "cell_type": "code",
   "execution_count": 8,
   "id": "86b4aa2b-fff5-4e71-8635-1239edb30de5",
   "metadata": {},
   "outputs": [
    {
     "name": "stdout",
     "output_type": "stream",
     "text": [
      "ANSWER: [1990 1991 1992 1993 1994 1995 1996 1997 1998 1999 2000 2001 2002 2003\n",
      " 2004 2005 2006 2007 2008 2009 2010 2011 2012 2013 2014 2015 2016 2017\n",
      " 2018 2019 2020 2021 2022 2023]\n"
     ]
    }
   ],
   "source": [
    "print(f'ANSWER: {np.sort(gdp_df['Year'].unique())}')"
   ]
  },
  {
   "cell_type": "code",
   "execution_count": 76,
   "id": "7e26f99f-3480-4326-a00b-721d068894c5",
   "metadata": {},
   "outputs": [
    {
     "data": {
      "image/png": "[encoded data removed]",
      "text/plain": [
       "<Figure size 640x480 with 1 Axes>"
      ]
     },
     "metadata": {},
     "output_type": "display_data"
    }
   ],
   "source": [
    "# CREATE BAR GRAPH\n",
    "sns.barplot(data=gdp_df.groupby(\"Year\")[\"GDP_Per_Capita\"].count(), orient=\"h\")\n",
    "plt.title('GDP Observations Per Year');"
   ]
  },
  {
   "cell_type": "markdown",
   "id": "4e3cfd65-4b21-4793-bb51-2f3457f3d054",
   "metadata": {},
   "source": [
    "#### Answer: The number of observations per year are pretty evenly distributed."
   ]
  },
  {
   "cell_type": "markdown",
   "id": "d659cd5d-6b68-4867-8d98-e74395728785",
   "metadata": {},
   "source": [
    "### 8. How many countries are represented in this dataset?\n",
    "Which countries are least represented in the dataset?<br>\n",
    "Why do you think these countries have so few observations?"
   ]
  },
  {
   "cell_type": "code",
   "execution_count": 10,
   "id": "9e4b9adb-68a1-4fec-9c45-d49d6ed82374",
   "metadata": {},
   "outputs": [
    {
     "name": "stdout",
     "output_type": "stream",
     "text": [
      "ANSWER: 247 countries\n"
     ]
    }
   ],
   "source": [
    "print(f'ANSWER: {len(gdp_df['Country'].unique())} countries')"
   ]
  },
  {
   "cell_type": "code",
   "execution_count": 11,
   "id": "d539d962-bcac-4cd4-8673-9f56931dbba3",
   "metadata": {},
   "outputs": [
    {
     "data": {
      "text/plain": [
       "Country\n",
       "Djibouti                       11\n",
       "Turks and Caicos Islands       13\n",
       "Sint Maarten (Dutch part)      15\n",
       "Faroe Islands                  16\n",
       "Kosovo                         16\n",
       "Cayman Islands                 18\n",
       "Virgin Islands                 21\n",
       "Afghanistan                    24\n",
       "CuraÃ§ao                       24\n",
       "San Marino                     26\n",
       "Montenegro                     27\n",
       "Serbia                         29\n",
       "West Bank and Gaza             30\n",
       "Greenland                      32\n",
       "Bhutan                         33\n",
       "Lebanon                        33\n",
       "Somalia                        33\n",
       "Syrian Arab Republic           33\n",
       "Tonga                          33\n",
       "Africa Eastern and Southern    34\n",
       "Name: GDP_Per_Capita, dtype: int64"
      ]
     },
     "execution_count": 11,
     "metadata": {},
     "output_type": "execute_result"
    }
   ],
   "source": [
    "# FILTER UNIQUE COUNTRIES\n",
    "unique_countries = (\n",
    "    gdp_df\n",
    "        .groupby('Country')\n",
    "        .count()\n",
    "        ['GDP_Per_Capita']\n",
    ")\n",
    "\n",
    "# DISPLAY THE BOTTOM 20\n",
    "unique_countries.nsmallest(n=20)"
   ]
  },
  {
   "cell_type": "markdown",
   "id": "706272ae-0fc8-42eb-96c7-26ae106bf083",
   "metadata": {},
   "source": [
    "### 9. Create a new dataframe by subsetting gdp_df to just the year 2021. Call this new dataframe gdp_2021."
   ]
  },
  {
   "cell_type": "code",
   "execution_count": 77,
   "id": "a926049d-3586-4c79-be36-ea5a26824463",
   "metadata": {},
   "outputs": [
    {
     "data": {
      "text/html": [
       "<div>\n",
       "<style scoped>\n",
       "    .dataframe tbody tr th:only-of-type {\n",
       "        vertical-align: middle;\n",
       "    }\n",
       "\n",
       "    .dataframe tbody tr th {\n",
       "        vertical-align: top;\n",
       "    }\n",
       "\n",
       "    .dataframe thead th {\n",
       "        text-align: right;\n",
       "    }\n",
       "</style>\n",
       "<table border=\"1\" class=\"dataframe\">\n",
       "  <thead>\n",
       "    <tr style=\"text-align: right;\">\n",
       "      <th></th>\n",
       "      <th>Country</th>\n",
       "      <th>Year</th>\n",
       "      <th>GDP_Per_Capita</th>\n",
       "      <th>Continent</th>\n",
       "    </tr>\n",
       "  </thead>\n",
       "  <tbody>\n",
       "    <tr>\n",
       "      <th>2</th>\n",
       "      <td>Afghanistan</td>\n",
       "      <td>2021</td>\n",
       "      <td>2144.166570</td>\n",
       "      <td>Asia</td>\n",
       "    </tr>\n",
       "    <tr>\n",
       "      <th>26</th>\n",
       "      <td>Albania</td>\n",
       "      <td>2021</td>\n",
       "      <td>16113.136519</td>\n",
       "      <td>Europe</td>\n",
       "    </tr>\n",
       "    <tr>\n",
       "      <th>60</th>\n",
       "      <td>Algeria</td>\n",
       "      <td>2021</td>\n",
       "      <td>14496.865470</td>\n",
       "      <td>Africa</td>\n",
       "    </tr>\n",
       "    <tr>\n",
       "      <th>94</th>\n",
       "      <td>Andorra</td>\n",
       "      <td>2021</td>\n",
       "      <td>59332.202910</td>\n",
       "      <td>Europe</td>\n",
       "    </tr>\n",
       "    <tr>\n",
       "      <th>128</th>\n",
       "      <td>Angola</td>\n",
       "      <td>2021</td>\n",
       "      <td>7408.126591</td>\n",
       "      <td>Africa</td>\n",
       "    </tr>\n",
       "  </tbody>\n",
       "</table>\n",
       "</div>"
      ],
      "text/plain": [
       "         Country  Year  GDP_Per_Capita Continent\n",
       "2    Afghanistan  2021     2144.166570      Asia\n",
       "26       Albania  2021    16113.136519    Europe\n",
       "60       Algeria  2021    14496.865470    Africa\n",
       "94       Andorra  2021    59332.202910    Europe\n",
       "128       Angola  2021     7408.126591    Africa"
      ]
     },
     "execution_count": 77,
     "metadata": {},
     "output_type": "execute_result"
    }
   ],
   "source": [
    "# CREATE NEW DATAFRAME\n",
    "gdp_2021 = gdp_df[gdp_df['Year'] == 2021].copy()\n",
    "\n",
    "# DISPLAY TOP 5 ROWS\n",
    "gdp_2021.head()"
   ]
  },
  {
   "cell_type": "markdown",
   "id": "9b91ae49-0bcc-4336-a33f-abe481654bff",
   "metadata": {},
   "source": [
    "### 10. Use .describe() to find the summary statistics for GDP per capita in 2021."
   ]
  },
  {
   "cell_type": "code",
   "execution_count": 13,
   "id": "ecd34ff8-f0ed-45de-8639-967f948e2f8f",
   "metadata": {},
   "outputs": [
    {
     "data": {
      "text/plain": [
       "count       247.000000\n",
       "mean      24478.517262\n",
       "std       24601.525764\n",
       "min         836.665571\n",
       "25%        5996.532844\n",
       "50%       15900.976581\n",
       "75%       37298.776853\n",
       "max      135379.291201\n",
       "Name: GDP_Per_Capita, dtype: float64"
      ]
     },
     "execution_count": 13,
     "metadata": {},
     "output_type": "execute_result"
    }
   ],
   "source": [
    "# DISPLAY SUMMARY STATISTICS\n",
    "gdp_2021['GDP_Per_Capita'].describe()"
   ]
  },
  {
   "cell_type": "markdown",
   "id": "21cad72d-43e7-4087-926d-37b3a5e2ed85",
   "metadata": {},
   "source": [
    "### 11. Create a histogram of GDP Per Capita numbers for 2021\n",
    "(you may wish to adjust the number of bins for your histogram). How would you describe the shape of the distribution?"
   ]
  },
  {
   "cell_type": "code",
   "execution_count": 81,
   "id": "9ca623c0-4acf-48df-94ef-88bc3258380f",
   "metadata": {},
   "outputs": [
    {
     "data": {
      "image/png": "[encoded data removed]",
      "text/plain": [
       "<Figure size 640x480 with 1 Axes>"
      ]
     },
     "metadata": {},
     "output_type": "display_data"
    }
   ],
   "source": [
    "# CREATE HISTOGRAM\n",
    "sns.histplot(data=gdp_2021, x=\"GDP_Per_Capita\", bins=20)\n",
    "plt.title(label=\"GDP Per Capita 2021\");"
   ]
  },
  {
   "cell_type": "markdown",
   "id": "4e91198d-fa5e-4a15-b4c3-6dbbf7b55211",
   "metadata": {},
   "source": [
    "#### Answers: The shape is right skewed"
   ]
  },
  {
   "cell_type": "markdown",
   "id": "087d59a0-09c0-4796-a6eb-672a757a234f",
   "metadata": {},
   "source": [
    "### 12. Find the top 5 counties and bottom 5 countries by GDP per capita in 2021."
   ]
  },
  {
   "cell_type": "code",
   "execution_count": 15,
   "id": "acb32fe2-394c-4f17-a571-5c50a20879fb",
   "metadata": {},
   "outputs": [
    {
     "data": {
      "text/html": [
       "<div>\n",
       "<style scoped>\n",
       "    .dataframe tbody tr th:only-of-type {\n",
       "        vertical-align: middle;\n",
       "    }\n",
       "\n",
       "    .dataframe tbody tr th {\n",
       "        vertical-align: top;\n",
       "    }\n",
       "\n",
       "    .dataframe thead th {\n",
       "        text-align: right;\n",
       "    }\n",
       "</style>\n",
       "<table border=\"1\" class=\"dataframe\">\n",
       "  <thead>\n",
       "    <tr style=\"text-align: right;\">\n",
       "      <th></th>\n",
       "      <th>Country</th>\n",
       "      <th>Year</th>\n",
       "      <th>GDP_Per_Capita</th>\n",
       "    </tr>\n",
       "  </thead>\n",
       "  <tbody>\n",
       "    <tr>\n",
       "      <th>4425</th>\n",
       "      <td>Luxembourg</td>\n",
       "      <td>2021</td>\n",
       "      <td>135379.291201</td>\n",
       "    </tr>\n",
       "    <tr>\n",
       "      <th>6513</th>\n",
       "      <td>Singapore</td>\n",
       "      <td>2021</td>\n",
       "      <td>131864.092336</td>\n",
       "    </tr>\n",
       "    <tr>\n",
       "      <th>3492</th>\n",
       "      <td>Ireland</td>\n",
       "      <td>2021</td>\n",
       "      <td>118594.746862</td>\n",
       "    </tr>\n",
       "    <tr>\n",
       "      <th>6118</th>\n",
       "      <td>Qatar</td>\n",
       "      <td>2021</td>\n",
       "      <td>116832.570290</td>\n",
       "    </tr>\n",
       "    <tr>\n",
       "      <th>740</th>\n",
       "      <td>Bermuda</td>\n",
       "      <td>2021</td>\n",
       "      <td>92276.234605</td>\n",
       "    </tr>\n",
       "  </tbody>\n",
       "</table>\n",
       "</div>"
      ],
      "text/plain": [
       "         Country  Year  GDP_Per_Capita\n",
       "4425  Luxembourg  2021   135379.291201\n",
       "6513   Singapore  2021   131864.092336\n",
       "3492     Ireland  2021   118594.746862\n",
       "6118       Qatar  2021   116832.570290\n",
       "740      Bermuda  2021    92276.234605"
      ]
     },
     "execution_count": 15,
     "metadata": {},
     "output_type": "execute_result"
    }
   ],
   "source": [
    "# DISPLAY TOP 5 COUNTRIES\n",
    "gdp_2021.nlargest(n=5, columns=\"GDP_Per_Capita\", keep='all')"
   ]
  },
  {
   "cell_type": "code",
   "execution_count": 16,
   "id": "8b572eea-73f8-4402-90e5-f730e28dc433",
   "metadata": {},
   "outputs": [
    {
     "data": {
      "text/html": [
       "<div>\n",
       "<style scoped>\n",
       "    .dataframe tbody tr th:only-of-type {\n",
       "        vertical-align: middle;\n",
       "    }\n",
       "\n",
       "    .dataframe tbody tr th {\n",
       "        vertical-align: top;\n",
       "    }\n",
       "\n",
       "    .dataframe thead th {\n",
       "        text-align: right;\n",
       "    }\n",
       "</style>\n",
       "<table border=\"1\" class=\"dataframe\">\n",
       "  <thead>\n",
       "    <tr style=\"text-align: right;\">\n",
       "      <th></th>\n",
       "      <th>Country</th>\n",
       "      <th>Year</th>\n",
       "      <th>GDP_Per_Capita</th>\n",
       "    </tr>\n",
       "  </thead>\n",
       "  <tbody>\n",
       "    <tr>\n",
       "      <th>1045</th>\n",
       "      <td>Burundi</td>\n",
       "      <td>2021</td>\n",
       "      <td>836.665571</td>\n",
       "    </tr>\n",
       "    <tr>\n",
       "      <th>1301</th>\n",
       "      <td>Central African Republic</td>\n",
       "      <td>2021</td>\n",
       "      <td>1128.552380</td>\n",
       "    </tr>\n",
       "    <tr>\n",
       "      <th>1733</th>\n",
       "      <td>Dem. Rep. Congo</td>\n",
       "      <td>2021</td>\n",
       "      <td>1313.618218</td>\n",
       "    </tr>\n",
       "    <tr>\n",
       "      <th>6698</th>\n",
       "      <td>Somalia</td>\n",
       "      <td>2021</td>\n",
       "      <td>1392.464262</td>\n",
       "    </tr>\n",
       "    <tr>\n",
       "      <th>5132</th>\n",
       "      <td>Mozambique</td>\n",
       "      <td>2021</td>\n",
       "      <td>1457.235409</td>\n",
       "    </tr>\n",
       "  </tbody>\n",
       "</table>\n",
       "</div>"
      ],
      "text/plain": [
       "                       Country  Year  GDP_Per_Capita\n",
       "1045                   Burundi  2021      836.665571\n",
       "1301  Central African Republic  2021     1128.552380\n",
       "1733           Dem. Rep. Congo  2021     1313.618218\n",
       "6698                   Somalia  2021     1392.464262\n",
       "5132                Mozambique  2021     1457.235409"
      ]
     },
     "execution_count": 16,
     "metadata": {},
     "output_type": "execute_result"
    }
   ],
   "source": [
    "# DISPLAY BOTTOM 5 COUNTRIES\n",
    "gdp_2021.nsmallest(n=5, columns=\"GDP_Per_Capita\", keep='all')"
   ]
  },
  {
   "cell_type": "markdown",
   "id": "ba430997-56b0-44e8-806c-8b8fe557b688",
   "metadata": {},
   "source": [
    "### 13. Now, return to the full dataset, gdp_df.\n",
    "Pivot the data for 1990 and 2021 (using the pandas .pivot_table() method or another method) so that each row corresponds to a country, each column corresponds to a year, and the values in the table give the GDP_Per_Capita amount. Drop any rows that are missing values for either 1990 or 2021. Save the result to a dataframe named gdp_pivoted."
   ]
  },
  {
   "cell_type": "code",
   "execution_count": 17,
   "id": "40463b36-e011-4b75-bcad-f26361679cd1",
   "metadata": {},
   "outputs": [],
   "source": [
    "# CREATE PIVOT TABLE\n",
    "gdp_pivoted = (\n",
    "    gdp_df[(gdp_df['Year'] == 1990) | (gdp_df['Year'] == 2021)]\n",
    "    .pivot_table(values='GDP_Per_Capita', index=['Country'], columns=['Year'])\n",
    "    .dropna()\n",
    ")"
   ]
  },
  {
   "cell_type": "markdown",
   "id": "256ca671-9757-4c78-bec1-45c404148e3b",
   "metadata": {},
   "source": [
    "### 14. Create a new column in gdp_pivoted named Percent_Change.\n",
    "This column should contain the percent change in GDP_Per_Capita from 1990 to 2021. Hint: Percent change is calculated as 100*(New Value - Old Value) / Old Value."
   ]
  },
  {
   "cell_type": "code",
   "execution_count": 18,
   "id": "91738635-f2d9-4c10-9fda-e7a51930895a",
   "metadata": {},
   "outputs": [
    {
     "data": {
      "text/html": [
       "<div>\n",
       "<style scoped>\n",
       "    .dataframe tbody tr th:only-of-type {\n",
       "        vertical-align: middle;\n",
       "    }\n",
       "\n",
       "    .dataframe tbody tr th {\n",
       "        vertical-align: top;\n",
       "    }\n",
       "\n",
       "    .dataframe thead th {\n",
       "        text-align: right;\n",
       "    }\n",
       "</style>\n",
       "<table border=\"1\" class=\"dataframe\">\n",
       "  <thead>\n",
       "    <tr style=\"text-align: right;\">\n",
       "      <th>Year</th>\n",
       "      <th>1990</th>\n",
       "      <th>2021</th>\n",
       "      <th>Percent_Change</th>\n",
       "    </tr>\n",
       "    <tr>\n",
       "      <th>Country</th>\n",
       "      <th></th>\n",
       "      <th></th>\n",
       "      <th></th>\n",
       "    </tr>\n",
       "  </thead>\n",
       "  <tbody>\n",
       "    <tr>\n",
       "      <th>Africa Eastern and Southern</th>\n",
       "      <td>3386.854480</td>\n",
       "      <td>3934.287267</td>\n",
       "      <td>16.163458</td>\n",
       "    </tr>\n",
       "    <tr>\n",
       "      <th>Africa Western and Central</th>\n",
       "      <td>3299.401375</td>\n",
       "      <td>4698.926894</td>\n",
       "      <td>42.417559</td>\n",
       "    </tr>\n",
       "    <tr>\n",
       "      <th>Albania</th>\n",
       "      <td>5327.747458</td>\n",
       "      <td>16113.136519</td>\n",
       "      <td>202.438069</td>\n",
       "    </tr>\n",
       "    <tr>\n",
       "      <th>Algeria</th>\n",
       "      <td>11728.545729</td>\n",
       "      <td>14496.865470</td>\n",
       "      <td>23.603265</td>\n",
       "    </tr>\n",
       "    <tr>\n",
       "      <th>Andorra</th>\n",
       "      <td>50036.300776</td>\n",
       "      <td>59332.202910</td>\n",
       "      <td>18.578316</td>\n",
       "    </tr>\n",
       "  </tbody>\n",
       "</table>\n",
       "</div>"
      ],
      "text/plain": [
       "Year                                 1990          2021  Percent_Change\n",
       "Country                                                                \n",
       "Africa Eastern and Southern   3386.854480   3934.287267       16.163458\n",
       "Africa Western and Central    3299.401375   4698.926894       42.417559\n",
       "Albania                       5327.747458  16113.136519      202.438069\n",
       "Algeria                      11728.545729  14496.865470       23.603265\n",
       "Andorra                      50036.300776  59332.202910       18.578316"
      ]
     },
     "execution_count": 18,
     "metadata": {},
     "output_type": "execute_result"
    }
   ],
   "source": [
    "# CREATE NEW COLUMN AND CALCULATE PERCENT CHANGE\n",
    "gdp_pivoted['Percent_Change'] = 100 * (gdp_pivoted[2021] - gdp_pivoted[1990]) / gdp_pivoted[1990]\n",
    "\n",
    "# DISPLAY TOP 5 ROWS\n",
    "gdp_pivoted.head()"
   ]
  },
  {
   "cell_type": "markdown",
   "id": "77bd9377-15c0-4f20-bcd2-6dded52c90db",
   "metadata": {},
   "source": [
    "### 15. How many countries experienced a negative percent change in GDP per capita from 1990 to 2021?"
   ]
  },
  {
   "cell_type": "code",
   "execution_count": 19,
   "id": "5515cdbb-2486-4f36-ac8b-815e5c8c49c0",
   "metadata": {},
   "outputs": [
    {
     "name": "stdout",
     "output_type": "stream",
     "text": [
      "ANSWER: 23 countries\n"
     ]
    }
   ],
   "source": [
    "print(f'ANSWER: {(gdp_pivoted['Percent_Change'] < 0).sum()} countries')"
   ]
  },
  {
   "cell_type": "markdown",
   "id": "23eb2d6a-b2dc-452e-8578-813a22d71ce7",
   "metadata": {},
   "source": [
    "### 16. Which country had the highest % change in GDP per capita?\n",
    "Create a line plot showing this country's GDP per capita for all years from 1990 to 2018. Create another showing the country with the second highest % change in GDP. How do the trends in these countries compare?\n",
    "Bonus: Put both line charts on the same plot."
   ]
  },
  {
   "cell_type": "code",
   "execution_count": 20,
   "id": "8c727710-aace-4555-b4c1-eee6ef066767",
   "metadata": {},
   "outputs": [
    {
     "data": {
      "text/html": [
       "<div>\n",
       "<style scoped>\n",
       "    .dataframe tbody tr th:only-of-type {\n",
       "        vertical-align: middle;\n",
       "    }\n",
       "\n",
       "    .dataframe tbody tr th {\n",
       "        vertical-align: top;\n",
       "    }\n",
       "\n",
       "    .dataframe thead th {\n",
       "        text-align: right;\n",
       "    }\n",
       "</style>\n",
       "<table border=\"1\" class=\"dataframe\">\n",
       "  <thead>\n",
       "    <tr style=\"text-align: right;\">\n",
       "      <th>Year</th>\n",
       "      <th>1990</th>\n",
       "      <th>2021</th>\n",
       "      <th>Percent_Change</th>\n",
       "    </tr>\n",
       "    <tr>\n",
       "      <th>Country</th>\n",
       "      <th></th>\n",
       "      <th></th>\n",
       "      <th></th>\n",
       "    </tr>\n",
       "  </thead>\n",
       "  <tbody>\n",
       "    <tr>\n",
       "      <th>Equatorial Guinea</th>\n",
       "      <td>1122.817674</td>\n",
       "      <td>16821.448647</td>\n",
       "      <td>1398.146052</td>\n",
       "    </tr>\n",
       "    <tr>\n",
       "      <th>China</th>\n",
       "      <td>1645.578944</td>\n",
       "      <td>20406.729658</td>\n",
       "      <td>1140.094237</td>\n",
       "    </tr>\n",
       "  </tbody>\n",
       "</table>\n",
       "</div>"
      ],
      "text/plain": [
       "Year                      1990          2021  Percent_Change\n",
       "Country                                                     \n",
       "Equatorial Guinea  1122.817674  16821.448647     1398.146052\n",
       "China              1645.578944  20406.729658     1140.094237"
      ]
     },
     "execution_count": 20,
     "metadata": {},
     "output_type": "execute_result"
    }
   ],
   "source": [
    "# FILTER THE TOP 2 COUNTRIES\n",
    "top_2_countries = gdp_pivoted.nlargest(n=2, columns='Percent_Change')\n",
    "\n",
    "# DISPLAY THE TOP 2 COUNTRIES\n",
    "top_2_countries.head()"
   ]
  },
  {
   "cell_type": "code",
   "execution_count": 84,
   "id": "9e9dc17d-43da-47d7-81fc-1d77dba96df1",
   "metadata": {},
   "outputs": [
    {
     "data": {
      "image/png": "[encoded data removed]",
      "text/plain": [
       "<Figure size 640x480 with 1 Axes>"
      ]
     },
     "metadata": {},
     "output_type": "display_data"
    }
   ],
   "source": [
    "# CREATE LINE GRAPH\n",
    "for country in top_2_countries.index:\n",
    "    sns.lineplot(\n",
    "        data=(\n",
    "            gdp_df\n",
    "            .loc[gdp_df['Country'] == country]\n",
    "            .loc[(gdp_df['Year'] >= 1990) & (gdp_df['Year'] <= 2021)]\n",
    "        ),\n",
    "        x='Year',\n",
    "        y='GDP_Per_Capita',\n",
    "        label=country\n",
    "    )\n",
    "plt.legend()\n",
    "plt.title(label=\"Top 2 Countries Highest % Change\")\n",
    "plt.xlabel(xlabel=\"Years\")\n",
    "plt.ylabel(ylabel=\"GDP Per Capita\");"
   ]
  },
  {
   "cell_type": "markdown",
   "id": "f83b0614-882b-4bbc-8aa2-2fca2b05ecea",
   "metadata": {},
   "source": [
    "### 17. Read in continents.csv contained in the data folder into a new dataframe called continents.\n",
    "We will be using this dataframe to add a new column to our dataset."
   ]
  },
  {
   "cell_type": "code",
   "execution_count": 22,
   "id": "570985ea-a4e1-4738-adf1-00eac1e97987",
   "metadata": {},
   "outputs": [
    {
     "data": {
      "text/html": [
       "<div>\n",
       "<style scoped>\n",
       "    .dataframe tbody tr th:only-of-type {\n",
       "        vertical-align: middle;\n",
       "    }\n",
       "\n",
       "    .dataframe tbody tr th {\n",
       "        vertical-align: top;\n",
       "    }\n",
       "\n",
       "    .dataframe thead th {\n",
       "        text-align: right;\n",
       "    }\n",
       "</style>\n",
       "<table border=\"1\" class=\"dataframe\">\n",
       "  <thead>\n",
       "    <tr style=\"text-align: right;\">\n",
       "      <th></th>\n",
       "      <th>Continent</th>\n",
       "      <th>Country</th>\n",
       "    </tr>\n",
       "  </thead>\n",
       "  <tbody>\n",
       "    <tr>\n",
       "      <th>0</th>\n",
       "      <td>Asia</td>\n",
       "      <td>Afghanistan</td>\n",
       "    </tr>\n",
       "    <tr>\n",
       "      <th>1</th>\n",
       "      <td>Europe</td>\n",
       "      <td>Albania</td>\n",
       "    </tr>\n",
       "    <tr>\n",
       "      <th>2</th>\n",
       "      <td>Africa</td>\n",
       "      <td>Algeria</td>\n",
       "    </tr>\n",
       "    <tr>\n",
       "      <th>3</th>\n",
       "      <td>Europe</td>\n",
       "      <td>Andorra</td>\n",
       "    </tr>\n",
       "    <tr>\n",
       "      <th>4</th>\n",
       "      <td>Africa</td>\n",
       "      <td>Angola</td>\n",
       "    </tr>\n",
       "  </tbody>\n",
       "</table>\n",
       "</div>"
      ],
      "text/plain": [
       "  Continent      Country\n",
       "0      Asia  Afghanistan\n",
       "1    Europe      Albania\n",
       "2    Africa      Algeria\n",
       "3    Europe      Andorra\n",
       "4    Africa       Angola"
      ]
     },
     "execution_count": 22,
     "metadata": {},
     "output_type": "execute_result"
    }
   ],
   "source": [
    "# READ DATA\n",
    "continents_df = pd.read_csv('../data/continents.csv')\n",
    "\n",
    "# DISPLAY TOP 5 ROWS\n",
    "continents_df.head()"
   ]
  },
  {
   "cell_type": "markdown",
   "id": "9747e838-9a6e-47bd-b67b-4c8fb778b806",
   "metadata": {},
   "source": [
    "### 18. Merge gdp_df and continents. Keep only the countries that appear in both data frames.\n",
    "Save the result back to gdp_df."
   ]
  },
  {
   "cell_type": "code",
   "execution_count": 23,
   "id": "0f48c329-643e-44f0-abad-06689e0f1203",
   "metadata": {},
   "outputs": [
    {
     "data": {
      "text/html": [
       "<div>\n",
       "<style scoped>\n",
       "    .dataframe tbody tr th:only-of-type {\n",
       "        vertical-align: middle;\n",
       "    }\n",
       "\n",
       "    .dataframe tbody tr th {\n",
       "        vertical-align: top;\n",
       "    }\n",
       "\n",
       "    .dataframe thead th {\n",
       "        text-align: right;\n",
       "    }\n",
       "</style>\n",
       "<table border=\"1\" class=\"dataframe\">\n",
       "  <thead>\n",
       "    <tr style=\"text-align: right;\">\n",
       "      <th></th>\n",
       "      <th>Country</th>\n",
       "      <th>Year</th>\n",
       "      <th>GDP_Per_Capita</th>\n",
       "      <th>Continent</th>\n",
       "    </tr>\n",
       "  </thead>\n",
       "  <tbody>\n",
       "    <tr>\n",
       "      <th>0</th>\n",
       "      <td>Afghanistan</td>\n",
       "      <td>2023</td>\n",
       "      <td>1992.424394</td>\n",
       "      <td>Asia</td>\n",
       "    </tr>\n",
       "    <tr>\n",
       "      <th>1</th>\n",
       "      <td>Afghanistan</td>\n",
       "      <td>2022</td>\n",
       "      <td>1981.710168</td>\n",
       "      <td>Asia</td>\n",
       "    </tr>\n",
       "    <tr>\n",
       "      <th>2</th>\n",
       "      <td>Afghanistan</td>\n",
       "      <td>2021</td>\n",
       "      <td>2144.166570</td>\n",
       "      <td>Asia</td>\n",
       "    </tr>\n",
       "    <tr>\n",
       "      <th>3</th>\n",
       "      <td>Afghanistan</td>\n",
       "      <td>2020</td>\n",
       "      <td>2769.685745</td>\n",
       "      <td>Asia</td>\n",
       "    </tr>\n",
       "    <tr>\n",
       "      <th>4</th>\n",
       "      <td>Afghanistan</td>\n",
       "      <td>2019</td>\n",
       "      <td>2927.245144</td>\n",
       "      <td>Asia</td>\n",
       "    </tr>\n",
       "  </tbody>\n",
       "</table>\n",
       "</div>"
      ],
      "text/plain": [
       "       Country  Year  GDP_Per_Capita Continent\n",
       "0  Afghanistan  2023     1992.424394      Asia\n",
       "1  Afghanistan  2022     1981.710168      Asia\n",
       "2  Afghanistan  2021     2144.166570      Asia\n",
       "3  Afghanistan  2020     2769.685745      Asia\n",
       "4  Afghanistan  2019     2927.245144      Asia"
      ]
     },
     "execution_count": 23,
     "metadata": {},
     "output_type": "execute_result"
    }
   ],
   "source": [
    "# MERGE DATAFRAMES\n",
    "gdp_df = gdp_df.merge(right=continents_df, how='inner', on='Country', validate = 'many_to_one')\n",
    "\n",
    "# DISPLAY TOP 5 ROWS\n",
    "gdp_df.head()"
   ]
  },
  {
   "cell_type": "markdown",
   "id": "8575d3a9-b1d1-4660-8bdb-68d7783aa2ee",
   "metadata": {},
   "source": [
    "### 19. Determine the number of countries per continent.\n",
    "Create a bar chart showing this."
   ]
  },
  {
   "cell_type": "code",
   "execution_count": 63,
   "id": "8ad04daf-7d8d-4d8d-94be-eba4285a7bc0",
   "metadata": {},
   "outputs": [
    {
     "data": {
      "text/plain": [
       "Continent\n",
       "Africa           50\n",
       "Asia             41\n",
       "Europe           45\n",
       "North America    26\n",
       "Oceania          14\n",
       "Name: Country, dtype: int64"
      ]
     },
     "execution_count": 63,
     "metadata": {},
     "output_type": "execute_result"
    }
   ],
   "source": [
    "# FILTER UNIQUE COUNTIES\n",
    "countries_per_continent = (\n",
    "    gdp_df\n",
    "    .groupby('Continent')['Country']\n",
    "    .nunique()\n",
    ")\n",
    "\n",
    "# ALTERNATE\n",
    "# gdp_df.drop_duplicate(subset=['Country'])\n",
    "\n",
    "# DISPLAY TOP 5 ROWS\n",
    "countries_per_continent.head()"
   ]
  },
  {
   "cell_type": "code",
   "execution_count": 71,
   "id": "4a4c3f39-dc02-4cfd-8829-64e92e5fb0a2",
   "metadata": {},
   "outputs": [
    {
     "data": {
      "image/png": "[encoded data removed]",
      "text/plain": [
       "<Figure size 640x480 with 1 Axes>"
      ]
     },
     "metadata": {},
     "output_type": "display_data"
    }
   ],
   "source": [
    "# CREATE BAR GRAPH\n",
    "sns.barplot(data=countries_per_continent.sort_values(), orient=\"h\")\n",
    "plt.title(label=\"Countries Per Continent\");"
   ]
  },
  {
   "cell_type": "markdown",
   "id": "16b2692c-46f1-418d-9e26-92c5ea873e9a",
   "metadata": {},
   "source": [
    "### 20. Create a seaborn boxplot showing GDP per capita in 2021 split out by continent.\n",
    "What do you notice?"
   ]
  },
  {
   "cell_type": "code",
   "execution_count": 72,
   "id": "c0ce2faa-0b2b-4707-94b6-06ce57e030d1",
   "metadata": {},
   "outputs": [
    {
     "data": {
      "image/png": "[encoded data removed]",
      "text/plain": [
       "<Figure size 640x480 with 1 Axes>"
      ]
     },
     "metadata": {},
     "output_type": "display_data"
    }
   ],
   "source": [
    "# CREATE BOXPLOT\n",
    "sns.boxplot(\n",
    "    data=gdp_df[gdp_df['Year'] == 2021].sort_values(by='Continent'),\n",
    "    x='GDP_Per_Capita',\n",
    "    y='Continent'\n",
    ")\n",
    "plt.title(label=\"GDP Per Capita 2021\");"
   ]
  },
  {
   "cell_type": "markdown",
   "id": "76441bda-13ee-4b4b-aa0d-1a60040646ab",
   "metadata": {},
   "source": [
    "#### ANSWER: The data looks as I expected. Asia's median is much closer to the 25% quantile. South America has no outliers."
   ]
  },
  {
   "cell_type": "markdown",
   "id": "4a54635d-9bf9-4104-9d6e-f925445dd87f",
   "metadata": {},
   "source": [
    "### 21. Download the full csv containing Life expectancy at birth, total (years) from https://data.worldbank.org/indicator/SP.DYN.LE00.IN?name_desc=false.\n",
    "Read this data into a DataFrame named life_expectancy. Note: When reading this dataset it, you may encounter an error. Modify your read_csv call to correct this without modifying the original csv file."
   ]
  },
  {
   "cell_type": "code",
   "execution_count": 27,
   "id": "83b9b8c5-120d-49a7-a60f-2f837ef3185f",
   "metadata": {},
   "outputs": [
    {
     "data": {
      "text/plain": [
       "(266, 70)"
      ]
     },
     "execution_count": 27,
     "metadata": {},
     "output_type": "execute_result"
    }
   ],
   "source": [
    "# READ DATA\n",
    "life_expectancy_df = pd.read_csv('../data/API_SP.DYN.LE00.IN_DS2_en_csv_v2_22997.csv',\n",
    "                                 skiprows=3,\n",
    "                                 on_bad_lines='skip')\n",
    "# DISPLAY DATAFRAME SHAPE\n",
    "life_expectancy_df.shape"
   ]
  },
  {
   "cell_type": "markdown",
   "id": "26b1d810-1da8-4066-845b-15ed29af9b1a",
   "metadata": {},
   "source": [
    "### 22. Drop the Country Code, Indicator Name, and Indicator Code columns.\n",
    "Then use .melt() to convert your data from wide to long. That is, instead of having one row per country and multiple colums per year, we want to have multiple rows per country and a single column for year. After melting, rename the columns to Country, Year, and Life_Expectancy."
   ]
  },
  {
   "cell_type": "code",
   "execution_count": 28,
   "id": "f736ab6b-497e-49cf-96b3-1e7b67a95a50",
   "metadata": {},
   "outputs": [
    {
     "data": {
      "text/plain": [
       "Index(['Country Name', 'Country Code', 'Indicator Name', 'Indicator Code',\n",
       "       '1960', '1961', '1962', '1963', '1964', '1965', '1966', '1967', '1968',\n",
       "       '1969', '1970', '1971', '1972', '1973', '1974', '1975', '1976', '1977',\n",
       "       '1978', '1979', '1980', '1981', '1982', '1983', '1984', '1985', '1986',\n",
       "       '1987', '1988', '1989', '1990', '1991', '1992', '1993', '1994', '1995',\n",
       "       '1996', '1997', '1998', '1999', '2000', '2001', '2002', '2003', '2004',\n",
       "       '2005', '2006', '2007', '2008', '2009', '2010', '2011', '2012', '2013',\n",
       "       '2014', '2015', '2016', '2017', '2018', '2019', '2020', '2021', '2022',\n",
       "       '2023', '2024', 'Unnamed: 69'],\n",
       "      dtype='object')"
      ]
     },
     "execution_count": 28,
     "metadata": {},
     "output_type": "execute_result"
    }
   ],
   "source": [
    "# DISPLAY COLUMNS\n",
    "life_expectancy_df.columns"
   ]
  },
  {
   "cell_type": "code",
   "execution_count": 29,
   "id": "437d92e8-61cc-4bf2-9852-e351ad5c5d66",
   "metadata": {},
   "outputs": [],
   "source": [
    "# CONVERT SHAPE\n",
    "life_expectancy_df = life_expectancy_df.melt(\n",
    "    id_vars=life_expectancy_df.columns[0:2],\n",
    "    value_vars=life_expectancy_df.columns[4:-1],\n",
    "    var_name='Year',\n",
    "    value_name='Life_Expectancy'\n",
    ")"
   ]
  },
  {
   "cell_type": "code",
   "execution_count": 30,
   "id": "865fca01-5895-4807-8850-63eab6300843",
   "metadata": {},
   "outputs": [
    {
     "data": {
      "text/html": [
       "<div>\n",
       "<style scoped>\n",
       "    .dataframe tbody tr th:only-of-type {\n",
       "        vertical-align: middle;\n",
       "    }\n",
       "\n",
       "    .dataframe tbody tr th {\n",
       "        vertical-align: top;\n",
       "    }\n",
       "\n",
       "    .dataframe thead th {\n",
       "        text-align: right;\n",
       "    }\n",
       "</style>\n",
       "<table border=\"1\" class=\"dataframe\">\n",
       "  <thead>\n",
       "    <tr style=\"text-align: right;\">\n",
       "      <th></th>\n",
       "      <th>Country</th>\n",
       "      <th>Country Code</th>\n",
       "      <th>Year</th>\n",
       "      <th>Life_Expectancy</th>\n",
       "    </tr>\n",
       "  </thead>\n",
       "  <tbody>\n",
       "    <tr>\n",
       "      <th>0</th>\n",
       "      <td>Aruba</td>\n",
       "      <td>ABW</td>\n",
       "      <td>1960</td>\n",
       "      <td>64.049000</td>\n",
       "    </tr>\n",
       "    <tr>\n",
       "      <th>1</th>\n",
       "      <td>Africa Eastern and Southern</td>\n",
       "      <td>AFE</td>\n",
       "      <td>1960</td>\n",
       "      <td>44.169658</td>\n",
       "    </tr>\n",
       "    <tr>\n",
       "      <th>2</th>\n",
       "      <td>Afghanistan</td>\n",
       "      <td>AFG</td>\n",
       "      <td>1960</td>\n",
       "      <td>32.799000</td>\n",
       "    </tr>\n",
       "    <tr>\n",
       "      <th>3</th>\n",
       "      <td>Africa Western and Central</td>\n",
       "      <td>AFW</td>\n",
       "      <td>1960</td>\n",
       "      <td>37.779636</td>\n",
       "    </tr>\n",
       "    <tr>\n",
       "      <th>4</th>\n",
       "      <td>Angola</td>\n",
       "      <td>AGO</td>\n",
       "      <td>1960</td>\n",
       "      <td>37.933000</td>\n",
       "    </tr>\n",
       "  </tbody>\n",
       "</table>\n",
       "</div>"
      ],
      "text/plain": [
       "                       Country Country Code  Year  Life_Expectancy\n",
       "0                        Aruba          ABW  1960        64.049000\n",
       "1  Africa Eastern and Southern          AFE  1960        44.169658\n",
       "2                  Afghanistan          AFG  1960        32.799000\n",
       "3   Africa Western and Central          AFW  1960        37.779636\n",
       "4                       Angola          AGO  1960        37.933000"
      ]
     },
     "execution_count": 30,
     "metadata": {},
     "output_type": "execute_result"
    }
   ],
   "source": [
    "# RENAME COLUMNS\n",
    "life_expectancy_df = life_expectancy_df.rename(columns={'Country Name': 'Country'})\n",
    "\n",
    "# DISPLAY TOP 5 ROWS\n",
    "life_expectancy_df.head()"
   ]
  },
  {
   "cell_type": "markdown",
   "id": "7edb6ab6-2eb3-4112-a639-221c71649980",
   "metadata": {},
   "source": [
    "### 23. What was the first country with a life expectancy to exceed 80?"
   ]
  },
  {
   "cell_type": "code",
   "execution_count": 31,
   "id": "c37fed67-22be-47cc-bb8e-17e1b47414f3",
   "metadata": {},
   "outputs": [
    {
     "name": "stdout",
     "output_type": "stream",
     "text": [
      "ANSWER: Monaco\n"
     ]
    }
   ],
   "source": [
    "print(f'ANSWER: {(life_expectancy_df[life_expectancy_df['Life_Expectancy'] > 80.0]\n",
    "                .sort_values(by='Year')['Country']\n",
    "                .iloc[0])}')"
   ]
  },
  {
   "cell_type": "markdown",
   "id": "208ffa14-09a4-4c95-b79c-cf1e25887d76",
   "metadata": {},
   "source": [
    "### 24. Merge gdp_df and life_expectancy, keeping all countries and years that appear in both DataFrames.\n",
    "Save the result to a new DataFrame named gdp_le. If you get any errors in doing this, read them carefully and correct them. Look at the first five rows of your new data frame to confirm it merged correctly. Also, check the last five rows to make sure the data is clean and as expected."
   ]
  },
  {
   "cell_type": "code",
   "execution_count": 32,
   "id": "67ccb274-2b39-4cfa-acf2-fda1549cc30f",
   "metadata": {},
   "outputs": [],
   "source": [
    "# CONVERT COLUMN TYPE\n",
    "life_expectancy_df['Year'] = pd.to_numeric(life_expectancy_df['Year'], errors='coerce')"
   ]
  },
  {
   "cell_type": "code",
   "execution_count": 33,
   "id": "ab0b6a2b-94d3-4b9d-81a2-76c3a82435a6",
   "metadata": {},
   "outputs": [
    {
     "data": {
      "text/html": [
       "<div>\n",
       "<style scoped>\n",
       "    .dataframe tbody tr th:only-of-type {\n",
       "        vertical-align: middle;\n",
       "    }\n",
       "\n",
       "    .dataframe tbody tr th {\n",
       "        vertical-align: top;\n",
       "    }\n",
       "\n",
       "    .dataframe thead th {\n",
       "        text-align: right;\n",
       "    }\n",
       "</style>\n",
       "<table border=\"1\" class=\"dataframe\">\n",
       "  <thead>\n",
       "    <tr style=\"text-align: right;\">\n",
       "      <th></th>\n",
       "      <th>Country</th>\n",
       "      <th>Year</th>\n",
       "      <th>GDP_Per_Capita</th>\n",
       "      <th>Continent</th>\n",
       "      <th>Country Code</th>\n",
       "      <th>Life_Expectancy</th>\n",
       "    </tr>\n",
       "  </thead>\n",
       "  <tbody>\n",
       "    <tr>\n",
       "      <th>0</th>\n",
       "      <td>Afghanistan</td>\n",
       "      <td>2023</td>\n",
       "      <td>1992.424394</td>\n",
       "      <td>Asia</td>\n",
       "      <td>AFG</td>\n",
       "      <td>66.035</td>\n",
       "    </tr>\n",
       "    <tr>\n",
       "      <th>1</th>\n",
       "      <td>Afghanistan</td>\n",
       "      <td>2022</td>\n",
       "      <td>1981.710168</td>\n",
       "      <td>Asia</td>\n",
       "      <td>AFG</td>\n",
       "      <td>65.617</td>\n",
       "    </tr>\n",
       "    <tr>\n",
       "      <th>2</th>\n",
       "      <td>Afghanistan</td>\n",
       "      <td>2021</td>\n",
       "      <td>2144.166570</td>\n",
       "      <td>Asia</td>\n",
       "      <td>AFG</td>\n",
       "      <td>60.417</td>\n",
       "    </tr>\n",
       "    <tr>\n",
       "      <th>3</th>\n",
       "      <td>Afghanistan</td>\n",
       "      <td>2020</td>\n",
       "      <td>2769.685745</td>\n",
       "      <td>Asia</td>\n",
       "      <td>AFG</td>\n",
       "      <td>61.454</td>\n",
       "    </tr>\n",
       "    <tr>\n",
       "      <th>4</th>\n",
       "      <td>Afghanistan</td>\n",
       "      <td>2019</td>\n",
       "      <td>2927.245144</td>\n",
       "      <td>Asia</td>\n",
       "      <td>AFG</td>\n",
       "      <td>62.941</td>\n",
       "    </tr>\n",
       "    <tr>\n",
       "      <th>...</th>\n",
       "      <td>...</td>\n",
       "      <td>...</td>\n",
       "      <td>...</td>\n",
       "      <td>...</td>\n",
       "      <td>...</td>\n",
       "      <td>...</td>\n",
       "    </tr>\n",
       "    <tr>\n",
       "      <th>5851</th>\n",
       "      <td>Zimbabwe</td>\n",
       "      <td>1994</td>\n",
       "      <td>3965.730986</td>\n",
       "      <td>Africa</td>\n",
       "      <td>ZWE</td>\n",
       "      <td>52.537</td>\n",
       "    </tr>\n",
       "    <tr>\n",
       "      <th>5852</th>\n",
       "      <td>Zimbabwe</td>\n",
       "      <td>1993</td>\n",
       "      <td>3634.750494</td>\n",
       "      <td>Africa</td>\n",
       "      <td>ZWE</td>\n",
       "      <td>53.976</td>\n",
       "    </tr>\n",
       "    <tr>\n",
       "      <th>5853</th>\n",
       "      <td>Zimbabwe</td>\n",
       "      <td>1992</td>\n",
       "      <td>3649.891947</td>\n",
       "      <td>Africa</td>\n",
       "      <td>ZWE</td>\n",
       "      <td>55.602</td>\n",
       "    </tr>\n",
       "    <tr>\n",
       "      <th>5854</th>\n",
       "      <td>Zimbabwe</td>\n",
       "      <td>1991</td>\n",
       "      <td>4126.405247</td>\n",
       "      <td>Africa</td>\n",
       "      <td>ZWE</td>\n",
       "      <td>57.037</td>\n",
       "    </tr>\n",
       "    <tr>\n",
       "      <th>5855</th>\n",
       "      <td>Zimbabwe</td>\n",
       "      <td>1990</td>\n",
       "      <td>4013.299059</td>\n",
       "      <td>Africa</td>\n",
       "      <td>ZWE</td>\n",
       "      <td>58.319</td>\n",
       "    </tr>\n",
       "  </tbody>\n",
       "</table>\n",
       "<p>5856 rows × 6 columns</p>\n",
       "</div>"
      ],
      "text/plain": [
       "          Country  Year  GDP_Per_Capita Continent Country Code  \\\n",
       "0     Afghanistan  2023     1992.424394      Asia          AFG   \n",
       "1     Afghanistan  2022     1981.710168      Asia          AFG   \n",
       "2     Afghanistan  2021     2144.166570      Asia          AFG   \n",
       "3     Afghanistan  2020     2769.685745      Asia          AFG   \n",
       "4     Afghanistan  2019     2927.245144      Asia          AFG   \n",
       "...           ...   ...             ...       ...          ...   \n",
       "5851     Zimbabwe  1994     3965.730986    Africa          ZWE   \n",
       "5852     Zimbabwe  1993     3634.750494    Africa          ZWE   \n",
       "5853     Zimbabwe  1992     3649.891947    Africa          ZWE   \n",
       "5854     Zimbabwe  1991     4126.405247    Africa          ZWE   \n",
       "5855     Zimbabwe  1990     4013.299059    Africa          ZWE   \n",
       "\n",
       "      Life_Expectancy  \n",
       "0              66.035  \n",
       "1              65.617  \n",
       "2              60.417  \n",
       "3              61.454  \n",
       "4              62.941  \n",
       "...               ...  \n",
       "5851           52.537  \n",
       "5852           53.976  \n",
       "5853           55.602  \n",
       "5854           57.037  \n",
       "5855           58.319  \n",
       "\n",
       "[5856 rows x 6 columns]"
      ]
     },
     "execution_count": 33,
     "metadata": {},
     "output_type": "execute_result"
    }
   ],
   "source": [
    "# MERGE DATAFRAMES\n",
    "gdp_le = pd.merge(\n",
    "    left=gdp_df,\n",
    "    right=life_expectancy_df,\n",
    "    how='inner',\n",
    "    left_on=['Country', 'Year'],\n",
    "    right_on=['Country', 'Year'],\n",
    "    validate='one_to_one'\n",
    ")\n",
    "\n",
    "# DISPLAY TOP AND BOTTOM 5 ROWS\n",
    "gdp_le"
   ]
  },
  {
   "cell_type": "markdown",
   "id": "b1458eae-d8a5-4734-a90e-23d4daf4bf12",
   "metadata": {},
   "source": [
    "### 25. Create a new DataFrame, named gdp_le_2021 by extracting data for the year 2021 from gdp_le.\n",
    "How many countries have a life expectancy of at least 80 in 2021?"
   ]
  },
  {
   "cell_type": "code",
   "execution_count": 34,
   "id": "b201f41d-2f30-4e60-8448-2f7ed411745a",
   "metadata": {},
   "outputs": [
    {
     "data": {
      "text/html": [
       "<div>\n",
       "<style scoped>\n",
       "    .dataframe tbody tr th:only-of-type {\n",
       "        vertical-align: middle;\n",
       "    }\n",
       "\n",
       "    .dataframe tbody tr th {\n",
       "        vertical-align: top;\n",
       "    }\n",
       "\n",
       "    .dataframe thead th {\n",
       "        text-align: right;\n",
       "    }\n",
       "</style>\n",
       "<table border=\"1\" class=\"dataframe\">\n",
       "  <thead>\n",
       "    <tr style=\"text-align: right;\">\n",
       "      <th></th>\n",
       "      <th>Country</th>\n",
       "      <th>Year</th>\n",
       "      <th>GDP_Per_Capita</th>\n",
       "      <th>Continent</th>\n",
       "      <th>Country Code</th>\n",
       "      <th>Life_Expectancy</th>\n",
       "    </tr>\n",
       "  </thead>\n",
       "  <tbody>\n",
       "    <tr>\n",
       "      <th>2</th>\n",
       "      <td>Afghanistan</td>\n",
       "      <td>2021</td>\n",
       "      <td>2144.166570</td>\n",
       "      <td>Asia</td>\n",
       "      <td>AFG</td>\n",
       "      <td>60.417</td>\n",
       "    </tr>\n",
       "    <tr>\n",
       "      <th>26</th>\n",
       "      <td>Albania</td>\n",
       "      <td>2021</td>\n",
       "      <td>16113.136519</td>\n",
       "      <td>Europe</td>\n",
       "      <td>ALB</td>\n",
       "      <td>76.844</td>\n",
       "    </tr>\n",
       "    <tr>\n",
       "      <th>60</th>\n",
       "      <td>Algeria</td>\n",
       "      <td>2021</td>\n",
       "      <td>14496.865470</td>\n",
       "      <td>Africa</td>\n",
       "      <td>DZA</td>\n",
       "      <td>75.208</td>\n",
       "    </tr>\n",
       "    <tr>\n",
       "      <th>94</th>\n",
       "      <td>Andorra</td>\n",
       "      <td>2021</td>\n",
       "      <td>59332.202910</td>\n",
       "      <td>Europe</td>\n",
       "      <td>AND</td>\n",
       "      <td>82.331</td>\n",
       "    </tr>\n",
       "    <tr>\n",
       "      <th>128</th>\n",
       "      <td>Angola</td>\n",
       "      <td>2021</td>\n",
       "      <td>7408.126591</td>\n",
       "      <td>Africa</td>\n",
       "      <td>AGO</td>\n",
       "      <td>62.958</td>\n",
       "    </tr>\n",
       "  </tbody>\n",
       "</table>\n",
       "</div>"
      ],
      "text/plain": [
       "         Country  Year  GDP_Per_Capita Continent Country Code  Life_Expectancy\n",
       "2    Afghanistan  2021     2144.166570      Asia          AFG           60.417\n",
       "26       Albania  2021    16113.136519    Europe          ALB           76.844\n",
       "60       Algeria  2021    14496.865470    Africa          DZA           75.208\n",
       "94       Andorra  2021    59332.202910    Europe          AND           82.331\n",
       "128       Angola  2021     7408.126591    Africa          AGO           62.958"
      ]
     },
     "execution_count": 34,
     "metadata": {},
     "output_type": "execute_result"
    }
   ],
   "source": [
    "# CREATE DATAFRAME\n",
    "gdp_le_2021 = gdp_le[gdp_le['Year']==2021].copy()\n",
    "\n",
    "# DISPLAY TOP 5 ROWS\n",
    "gdp_le_2021.head()"
   ]
  },
  {
   "cell_type": "code",
   "execution_count": 35,
   "id": "53f0fd4d-4851-4b4c-9ea8-94c87226e23e",
   "metadata": {},
   "outputs": [
    {
     "name": "stdout",
     "output_type": "stream",
     "text": [
      "ANSWER: 33 countries\n"
     ]
    }
   ],
   "source": [
    "print(f'ANSWER: {gdp_le_2021[gdp_le_2021['Life_Expectancy'] >= 80.0]['Country'].count()} countries')"
   ]
  },
  {
   "cell_type": "markdown",
   "id": "75bd993b-330d-41dc-b3c9-dfd626bf9874",
   "metadata": {},
   "source": [
    "### 26. Find the countries that had the top 3 largest GDP per capita figures for 2021.\n",
    "Create a seaborn FacetGrid showing the change in life expectancy over time for these three countries. Each individual figure in the facet grid will represent a single country."
   ]
  },
  {
   "cell_type": "code",
   "execution_count": 36,
   "id": "24183795-bb69-4a63-95dc-26cf9f0ab055",
   "metadata": {},
   "outputs": [
    {
     "data": {
      "text/plain": [
       "['Luxembourg', 'Singapore', 'Ireland']"
      ]
     },
     "execution_count": 36,
     "metadata": {},
     "output_type": "execute_result"
    }
   ],
   "source": [
    "# FILTER TOP 3 COUNTRIES\n",
    "top_3_countries_gdp_2021 = gdp_le_2021.nlargest(n=3, columns='GDP_Per_Capita', keep='all')['Country'].to_list()\n",
    "\n",
    "# DISPLAY COUNTRIES\n",
    "top_3_countries_gdp_2021"
   ]
  },
  {
   "cell_type": "code",
   "execution_count": 37,
   "id": "76b88ed3-1129-483d-b18f-2a643aceebed",
   "metadata": {},
   "outputs": [
    {
     "data": {
      "image/png": "[encoded data removed]",
      "text/plain": [
       "<Figure size 900x300 with 3 Axes>"
      ]
     },
     "metadata": {},
     "output_type": "display_data"
    }
   ],
   "source": [
    "# CREATE FACETGRID\n",
    "(\n",
    "    sns\n",
    "    .FacetGrid(data=gdp_le[gdp_le['Country'].isin(values=top_3_countries_gdp_2021)], col='Country')\n",
    "    .map(plt.plot, 'Year', 'Life_Expectancy')\n",
    ");"
   ]
  },
  {
   "cell_type": "markdown",
   "id": "c1a088e5-5327-4367-9075-087ae61cc963",
   "metadata": {},
   "source": [
    "### 27. Create a scatter plot of Life Expectancy vs GDP per Capita for the year 2021."
   ]
  },
  {
   "cell_type": "markdown",
   "id": "87232f04-24a1-496c-b394-d56d90a46810",
   "metadata": {},
   "source": [
    " What do you notice?"
   ]
  },
  {
   "cell_type": "code",
   "execution_count": 85,
   "id": "41982878-7662-4fce-a0c9-2b5c701fe1bf",
   "metadata": {},
   "outputs": [
    {
     "data": {
      "image/png": "[encoded data removed]",
      "text/plain": [
       "<Figure size 640x480 with 1 Axes>"
      ]
     },
     "metadata": {},
     "output_type": "display_data"
    }
   ],
   "source": [
    "# CREATE SCATTERPLOT\n",
    "sns.scatterplot(data=gdp_le_2021, x='Life_Expectancy', y='GDP_Per_Capita', alpha=0.5)\n",
    "plt.title(label=\"Life Expectancy vs GDP Per Capita 2021\");"
   ]
  },
  {
   "cell_type": "markdown",
   "id": "c317c6ff-1a1c-4db9-a76c-05d44452082b",
   "metadata": {},
   "source": [
    "#### Answer: Lifespan is asymptotic"
   ]
  },
  {
   "cell_type": "markdown",
   "id": "e4da999f-1ef0-4ba5-a034-363fc9a6e774",
   "metadata": {},
   "source": [
    "### 28. Find the correlation between Life Expectancy and GDP per Capita for the year 2021.\n",
    "What is the meaning of this number?"
   ]
  },
  {
   "cell_type": "code",
   "execution_count": 39,
   "id": "750d7cf8-518e-4a7d-a894-da0469be4357",
   "metadata": {},
   "outputs": [
    {
     "data": {
      "text/html": [
       "<div>\n",
       "<style scoped>\n",
       "    .dataframe tbody tr th:only-of-type {\n",
       "        vertical-align: middle;\n",
       "    }\n",
       "\n",
       "    .dataframe tbody tr th {\n",
       "        vertical-align: top;\n",
       "    }\n",
       "\n",
       "    .dataframe thead th {\n",
       "        text-align: right;\n",
       "    }\n",
       "</style>\n",
       "<table border=\"1\" class=\"dataframe\">\n",
       "  <thead>\n",
       "    <tr style=\"text-align: right;\">\n",
       "      <th></th>\n",
       "      <th>GDP_Per_Capita</th>\n",
       "      <th>Life_Expectancy</th>\n",
       "    </tr>\n",
       "  </thead>\n",
       "  <tbody>\n",
       "    <tr>\n",
       "      <th>GDP_Per_Capita</th>\n",
       "      <td>1.000000</td>\n",
       "      <td>0.752785</td>\n",
       "    </tr>\n",
       "    <tr>\n",
       "      <th>Life_Expectancy</th>\n",
       "      <td>0.752785</td>\n",
       "      <td>1.000000</td>\n",
       "    </tr>\n",
       "  </tbody>\n",
       "</table>\n",
       "</div>"
      ],
      "text/plain": [
       "                 GDP_Per_Capita  Life_Expectancy\n",
       "GDP_Per_Capita         1.000000         0.752785\n",
       "Life_Expectancy        0.752785         1.000000"
      ]
     },
     "execution_count": 39,
     "metadata": {},
     "output_type": "execute_result"
    }
   ],
   "source": [
    "# DISPLAY CORRELATION\n",
    "gdp_le_2021[['GDP_Per_Capita', 'Life_Expectancy']].corr()"
   ]
  },
  {
   "cell_type": "markdown",
   "id": "75c8c2fb-18bd-4267-b592-b0bcf2437a2d",
   "metadata": {},
   "source": [
    "#### Answer: Correlation shows how strong of a relationship there is between to variables"
   ]
  },
  {
   "cell_type": "markdown",
   "id": "9f14dcfe-0409-4844-9c9c-e6443ebd36ff",
   "metadata": {},
   "source": [
    "### 29. Add a column to gdp_le_2021 and calculate the logarithm of GDP per capita.\n",
    "Find the correlation between the log of GDP per capita and life expectancy. How does this compare to the calculation in the previous part? Look at a scatter plot to see if the result of this calculation makes sense."
   ]
  },
  {
   "cell_type": "code",
   "execution_count": 40,
   "id": "eb9d0065-77d4-4e89-813c-f29fd6713b99",
   "metadata": {},
   "outputs": [
    {
     "data": {
      "text/html": [
       "<div>\n",
       "<style scoped>\n",
       "    .dataframe tbody tr th:only-of-type {\n",
       "        vertical-align: middle;\n",
       "    }\n",
       "\n",
       "    .dataframe tbody tr th {\n",
       "        vertical-align: top;\n",
       "    }\n",
       "\n",
       "    .dataframe thead th {\n",
       "        text-align: right;\n",
       "    }\n",
       "</style>\n",
       "<table border=\"1\" class=\"dataframe\">\n",
       "  <thead>\n",
       "    <tr style=\"text-align: right;\">\n",
       "      <th></th>\n",
       "      <th>GDP_Per_Capita</th>\n",
       "      <th>Life_Expectancy</th>\n",
       "      <th>GDP_Per_Capita_log</th>\n",
       "    </tr>\n",
       "  </thead>\n",
       "  <tbody>\n",
       "    <tr>\n",
       "      <th>GDP_Per_Capita</th>\n",
       "      <td>1.000000</td>\n",
       "      <td>0.752785</td>\n",
       "      <td>0.857318</td>\n",
       "    </tr>\n",
       "    <tr>\n",
       "      <th>Life_Expectancy</th>\n",
       "      <td>0.752785</td>\n",
       "      <td>1.000000</td>\n",
       "      <td>0.849065</td>\n",
       "    </tr>\n",
       "    <tr>\n",
       "      <th>GDP_Per_Capita_log</th>\n",
       "      <td>0.857318</td>\n",
       "      <td>0.849065</td>\n",
       "      <td>1.000000</td>\n",
       "    </tr>\n",
       "  </tbody>\n",
       "</table>\n",
       "</div>"
      ],
      "text/plain": [
       "                    GDP_Per_Capita  Life_Expectancy  GDP_Per_Capita_log\n",
       "GDP_Per_Capita            1.000000         0.752785            0.857318\n",
       "Life_Expectancy           0.752785         1.000000            0.849065\n",
       "GDP_Per_Capita_log        0.857318         0.849065            1.000000"
      ]
     },
     "execution_count": 40,
     "metadata": {},
     "output_type": "execute_result"
    }
   ],
   "source": [
    "# CALCULATION LOG\n",
    "gdp_le_2021['GDP_Per_Capita_log'] = np.log(gdp_le_2021['GDP_Per_Capita'])\n",
    "\n",
    "# DISPLAY CORRELATION\n",
    "gdp_le_2021[['GDP_Per_Capita', 'Life_Expectancy', 'GDP_Per_Capita_log']].corr()"
   ]
  },
  {
   "cell_type": "markdown",
   "id": "46c6cb48-2702-4ab9-903a-c77b1d069553",
   "metadata": {},
   "source": [
    "#### ANSWER: The log correlation is stronger."
   ]
  },
  {
   "cell_type": "code",
   "execution_count": 86,
   "id": "8fee65e4-5b3f-4007-9554-f112e8720121",
   "metadata": {},
   "outputs": [
    {
     "data": {
      "image/png": "[encoded data removed]",
      "text/plain": [
       "<Figure size 640x480 with 1 Axes>"
      ]
     },
     "metadata": {},
     "output_type": "display_data"
    }
   ],
   "source": [
    "# CREATE SCATTERPLOT\n",
    "sns.scatterplot(data=gdp_le_2021, x='Life_Expectancy', y='GDP_Per_Capita_log', alpha=0.5)\n",
    "plt.title(label=\"Life Expectancy vs GDP Per Capita Log 2021\");"
   ]
  },
  {
   "cell_type": "markdown",
   "id": "a31ecbb2-9c9d-47c2-8a3f-72dcff646a55",
   "metadata": {},
   "source": [
    "## Bonus: Solo Exploration:\n",
    "### 1. Choose and download another data set from the UN data http://data.un.org/Explorer.aspx to explore.\n",
    "You may want to combine your new dataset with one or both of the datasets that you already worked with. Report any interesting correlations or trends that you find."
   ]
  },
  {
   "cell_type": "code",
   "execution_count": 42,
   "id": "e6a3d3c3-7a0b-49d8-a49d-9028a39aadaf",
   "metadata": {},
   "outputs": [
    {
     "name": "stderr",
     "output_type": "stream",
     "text": [
      "C:\\Users\\shann\\AppData\\Local\\Temp\\ipykernel_12020\\2491607502.py:2: ParserWarning: Falling back to the 'python' engine because the 'c' engine does not support skipfooter; you can avoid this warning by specifying engine='python'.\n",
      "  deaths_by_month_df = pd.read_csv('../data/UNdata_Export_20251022_014932481.csv', skipfooter=70)\n"
     ]
    },
    {
     "data": {
      "text/html": [
       "<div>\n",
       "<style scoped>\n",
       "    .dataframe tbody tr th:only-of-type {\n",
       "        vertical-align: middle;\n",
       "    }\n",
       "\n",
       "    .dataframe tbody tr th {\n",
       "        vertical-align: top;\n",
       "    }\n",
       "\n",
       "    .dataframe thead th {\n",
       "        text-align: right;\n",
       "    }\n",
       "</style>\n",
       "<table border=\"1\" class=\"dataframe\">\n",
       "  <thead>\n",
       "    <tr style=\"text-align: right;\">\n",
       "      <th></th>\n",
       "      <th>Country or Area</th>\n",
       "      <th>Year</th>\n",
       "      <th>Area</th>\n",
       "      <th>Month</th>\n",
       "      <th>Record Type</th>\n",
       "      <th>Reliability</th>\n",
       "      <th>Source Year</th>\n",
       "      <th>Value</th>\n",
       "      <th>Value Footnotes</th>\n",
       "    </tr>\n",
       "  </thead>\n",
       "  <tbody>\n",
       "    <tr>\n",
       "      <th>0</th>\n",
       "      <td>Åland Islands</td>\n",
       "      <td>2025</td>\n",
       "      <td>Total</td>\n",
       "      <td>January - March</td>\n",
       "      <td>Data tabulated by year of occurrence</td>\n",
       "      <td>Provisional figure</td>\n",
       "      <td>2025</td>\n",
       "      <td>87</td>\n",
       "      <td>NaN</td>\n",
       "    </tr>\n",
       "    <tr>\n",
       "      <th>1</th>\n",
       "      <td>Åland Islands</td>\n",
       "      <td>2024</td>\n",
       "      <td>Total</td>\n",
       "      <td>Total</td>\n",
       "      <td>Data tabulated by year of occurrence</td>\n",
       "      <td>Provisional figure</td>\n",
       "      <td>2025</td>\n",
       "      <td>306</td>\n",
       "      <td>NaN</td>\n",
       "    </tr>\n",
       "    <tr>\n",
       "      <th>2</th>\n",
       "      <td>Åland Islands</td>\n",
       "      <td>2024</td>\n",
       "      <td>Total</td>\n",
       "      <td>January - March</td>\n",
       "      <td>Data tabulated by year of occurrence</td>\n",
       "      <td>Provisional figure</td>\n",
       "      <td>2024</td>\n",
       "      <td>82</td>\n",
       "      <td>NaN</td>\n",
       "    </tr>\n",
       "    <tr>\n",
       "      <th>3</th>\n",
       "      <td>Åland Islands</td>\n",
       "      <td>2024</td>\n",
       "      <td>Total</td>\n",
       "      <td>April - June</td>\n",
       "      <td>Data tabulated by year of occurrence</td>\n",
       "      <td>Provisional figure</td>\n",
       "      <td>2024</td>\n",
       "      <td>60</td>\n",
       "      <td>NaN</td>\n",
       "    </tr>\n",
       "    <tr>\n",
       "      <th>4</th>\n",
       "      <td>Åland Islands</td>\n",
       "      <td>2024</td>\n",
       "      <td>Total</td>\n",
       "      <td>July - September</td>\n",
       "      <td>Data tabulated by year of occurrence</td>\n",
       "      <td>Provisional figure</td>\n",
       "      <td>2024</td>\n",
       "      <td>91</td>\n",
       "      <td>NaN</td>\n",
       "    </tr>\n",
       "  </tbody>\n",
       "</table>\n",
       "</div>"
      ],
      "text/plain": [
       "  Country or Area  Year   Area             Month  \\\n",
       "0   Åland Islands  2025  Total   January - March   \n",
       "1   Åland Islands  2024  Total             Total   \n",
       "2   Åland Islands  2024  Total   January - March   \n",
       "3   Åland Islands  2024  Total      April - June   \n",
       "4   Åland Islands  2024  Total  July - September   \n",
       "\n",
       "                            Record Type         Reliability  Source Year  \\\n",
       "0  Data tabulated by year of occurrence  Provisional figure         2025   \n",
       "1  Data tabulated by year of occurrence  Provisional figure         2025   \n",
       "2  Data tabulated by year of occurrence  Provisional figure         2024   \n",
       "3  Data tabulated by year of occurrence  Provisional figure         2024   \n",
       "4  Data tabulated by year of occurrence  Provisional figure         2024   \n",
       "\n",
       "   Value Value Footnotes  \n",
       "0     87             NaN  \n",
       "1    306             NaN  \n",
       "2     82             NaN  \n",
       "3     60             NaN  \n",
       "4     91             NaN  "
      ]
     },
     "execution_count": 42,
     "metadata": {},
     "output_type": "execute_result"
    }
   ],
   "source": [
    "# READ DATA: DEATHS BY MONTH\n",
    "deaths_by_month_df = pd.read_csv('../data/UNdata_Export_20251022_014932481.csv', skipfooter=70)\n",
    "\n",
    "# DISPLAY TOP 5 ROWS\n",
    "deaths_by_month_df.head()"
   ]
  },
  {
   "cell_type": "code",
   "execution_count": 43,
   "id": "bc29494f-0785-4408-b99d-3480288212f1",
   "metadata": {},
   "outputs": [],
   "source": [
    "# DROP COLUMNS\n",
    "deaths_by_month_df = deaths_by_month_df.drop(columns=['Record Type', 'Reliability', 'Source Year', 'Value Footnotes'])"
   ]
  },
  {
   "cell_type": "code",
   "execution_count": 44,
   "id": "3431c456-32bf-4133-8c34-f3c5d2a99fe3",
   "metadata": {},
   "outputs": [],
   "source": [
    "# RENAME COLUMNS\n",
    "deaths_by_month_df = deaths_by_month_df.rename(columns={'Country or Area': 'Country'})"
   ]
  },
  {
   "cell_type": "code",
   "execution_count": 45,
   "id": "e092b8c9-79c0-4d24-8a5f-f8126ff88be2",
   "metadata": {},
   "outputs": [],
   "source": [
    "# MERGE DATAFRAMES\n",
    "gdp_death_df = pd.merge(\n",
    "    left=gdp_df,\n",
    "    right=deaths_by_month_df,\n",
    "    how='inner',\n",
    "    left_on=['Country', 'Year'],\n",
    "    right_on=['Country', 'Year']\n",
    ")"
   ]
  },
  {
   "cell_type": "code",
   "execution_count": 46,
   "id": "f2c83b76-67f0-4e6b-b74d-88ea668df9f3",
   "metadata": {},
   "outputs": [
    {
     "data": {
      "text/plain": [
       "Month\n",
       "April                 1906\n",
       "April - June            11\n",
       "August                1903\n",
       "December              1903\n",
       "February              1906\n",
       "January               1906\n",
       "January - March         14\n",
       "July                  1902\n",
       "July - September        11\n",
       "June                  1904\n",
       "March                 1909\n",
       "May                   1905\n",
       "November              1904\n",
       "October               1903\n",
       "October - December      12\n",
       "September             1904\n",
       "Total                 1892\n",
       "Unknown                402\n",
       "Name: Month, dtype: int64"
      ]
     },
     "execution_count": 46,
     "metadata": {},
     "output_type": "execute_result"
    }
   ],
   "source": [
    "# CONVERT COLUMNS\n",
    "gdp_death_df.groupby('Month')['Month'].count()"
   ]
  },
  {
   "cell_type": "code",
   "execution_count": 47,
   "id": "eeec57c0-0e71-43ce-8b44-382be67b025d",
   "metadata": {},
   "outputs": [
    {
     "data": {
      "text/plain": [
       "np.int64(1892)"
      ]
     },
     "execution_count": 47,
     "metadata": {},
     "output_type": "execute_result"
    }
   ],
   "source": [
    "gdp_death_df['Month'].loc[gdp_death_df['Month']=='Total'].count()"
   ]
  },
  {
   "cell_type": "code",
   "execution_count": 48,
   "id": "0c2ff0a4-a51a-4d24-b222-e9da1c5648b9",
   "metadata": {},
   "outputs": [
    {
     "ename": "_IncompleteInputError",
     "evalue": "incomplete input (2003687980.py, line 2)",
     "output_type": "error",
     "traceback": [
      "\u001b[1;36m  Cell \u001b[1;32mIn[48], line 2\u001b[1;36m\u001b[0m\n\u001b[1;33m    death_df['Month'].drop(\u001b[0m\n\u001b[1;37m                           ^\u001b[0m\n\u001b[1;31m_IncompleteInputError\u001b[0m\u001b[1;31m:\u001b[0m incomplete input\n"
     ]
    }
   ],
   "source": [
    "# REMOVE TOTAL VALUE IN MONTHS COLUMN\n",
    "death_df['Month'].drop("
   ]
  },
  {
   "cell_type": "code",
   "execution_count": null,
   "id": "44f22ede-304c-4f01-ada2-8e7a0b8a15fe",
   "metadata": {},
   "outputs": [],
   "source": [
    "# ADD QUARTERS COLUMN\n",
    "(\n",
    "    death_df['Month']\n",
    "    .replace(to_replace='January', value='January - March')\n",
    "    .replace(to_replace='February', value='January - March')\n",
    "    .replace(to_replace='March', value='January - March')\n",
    "    .replace(to_replace='April', value='April - June')\n",
    "    .replace(to_replace='May', value='April - June')\n",
    "    .replace(to_replace='June', value='April - June')\n",
    "    .replace(to_replace='July', value='July - September')\n",
    "    .replace(to_replace='August', value='July - September')\n",
    "    .replace(to_replace='September', value='July - September')\n",
    "    .replace(to_replace='October', value='October - December')\n",
    "    .replace(to_replace='November', value='October - December')\n",
    "    .replace(to_replace='December', value='October - December')\n",
    ")"
   ]
  },
  {
   "cell_type": "markdown",
   "id": "92f149b2-d2a8-4c49-9a0a-11d584675374",
   "metadata": {},
   "source": [
    "### 2. If time allows, check out the plotly library to add additional interativity to your plots.\n",
    "https://plotly.com/python/plotly-express/."
   ]
  },
  {
   "cell_type": "code",
   "execution_count": null,
   "id": "86060074-4970-4360-94b1-3a34f0f3f348",
   "metadata": {},
   "outputs": [],
   "source": []
  }
 ],
 "metadata": {
  "kernelspec": {
   "display_name": "Python [conda env:base] *",
   "language": "python",
   "name": "conda-base-py"
  },
  "language_info": {
   "codemirror_mode": {
    "name": "ipython",
    "version": 3
   },
   "file_extension": ".py",
   "mimetype": "text/x-python",
   "name": "python",
   "nbconvert_exporter": "python",
   "pygments_lexer": "ipython3",
   "version": "3.13.5"
  }
 },
 "nbformat": 4,
 "nbformat_minor": 5
}
