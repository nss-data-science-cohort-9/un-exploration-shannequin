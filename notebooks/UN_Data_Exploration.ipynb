{
 "cells": [
  {
   "cell_type": "markdown",
   "id": "8507fdf6-4d68-4df8-aaf9-42cfe83f1bde",
   "metadata": {},
   "source": [
    "# An Exploration of UN data\n",
    "In this project, you'll be doing some exploratory analysis on two country-level metrics, gross domestic product (GDP) per capita and overall life expectancy. After completing the guided practice section, you will have a chance to find some additional data and do some more exploring of your own.\n",
    "\n",
    "## Guided Practice:"
   ]
  },
  {
   "attachments": {},
   "cell_type": "markdown",
   "id": "84820ede-721c-488d-8765-921eb8638b42",
   "metadata": {},
   "source": [
    "### 1. Download the Gross Domestic Product (GDP) per capita dataset\n",
    "from http://data.un.org/Data.aspx?d=WDI&f=Indicator_Code%3aNY.GDP.PCAP.PP.KD. Rename it to gdp_per_capita.csv and place it in the data folder of your project repository.\n",
    "\n",
    "### 2. Create a Jupyter Notebook in the notebooks folder and name it UN_Data_Exploration.\n",
    "You are likely to get errors along the way. When you do, read the errors to try to understand what is happening and how to correct it.\n",
    "Use markdown cells to record your answers to any questions asked in this exercise. On the menu bar, you can toggle the cell type from 'Code' to 'Markdown'. Here is a link to a cheat sheet showing the basics of styling text using Markdown.\n",
    "\n",
    "### 3. In the first cell of your notebook, import the required packages with their customary aliases as follows:\n",
    "import pandas as pd\n",
    "import numpy as np\n",
    "import matplotlib.pyplot as plt\n",
    "import seaborn as sns\n",
    "\n",
    "Keep all imports in this cell at the top of your notebook."
   ]
  },
  {
   "cell_type": "code",
   "execution_count": 1,
   "id": "d95f71f6-4c8d-4428-a560-2c382e2d8506",
   "metadata": {},
   "outputs": [],
   "source": [
    "import matplotlib.pyplot as plt\n",
    "import numpy as np\n",
    "import pandas as pd\n",
    "import seaborn as sns"
   ]
  },
  {
   "cell_type": "markdown",
   "id": "67dfcc30-703a-42c5-b4ae-9dedfc21da82",
   "metadata": {},
   "source": [
    "### 4. Using the pandas read_csv() function, read the GDP dataset into your notebook as a DataFrame called gdp_df.\n",
    "After reading it in, inspect the first 10 rows and then inspect the last 10 rows."
   ]
  },
  {
   "cell_type": "code",
   "execution_count": 2,
   "id": "d7679532-5938-4244-a3b5-4993ab91b307",
   "metadata": {},
   "outputs": [],
   "source": [
    "gdp_df = pd.read_csv('../data/gdp_per_capita.csv')"
   ]
  },
  {
   "cell_type": "code",
   "execution_count": 3,
   "id": "578e86d7-21d5-4f6f-ab7c-5f6da24a44cb",
   "metadata": {},
   "outputs": [
    {
     "data": {
      "text/html": [
       "<div>\n",
       "<style scoped>\n",
       "    .dataframe tbody tr th:only-of-type {\n",
       "        vertical-align: middle;\n",
       "    }\n",
       "\n",
       "    .dataframe tbody tr th {\n",
       "        vertical-align: top;\n",
       "    }\n",
       "\n",
       "    .dataframe thead th {\n",
       "        text-align: right;\n",
       "    }\n",
       "</style>\n",
       "<table border=\"1\" class=\"dataframe\">\n",
       "  <thead>\n",
       "    <tr style=\"text-align: right;\">\n",
       "      <th></th>\n",
       "      <th>Country or Area</th>\n",
       "      <th>Year</th>\n",
       "      <th>Value</th>\n",
       "      <th>Value Footnotes</th>\n",
       "    </tr>\n",
       "  </thead>\n",
       "  <tbody>\n",
       "    <tr>\n",
       "      <th>0</th>\n",
       "      <td>Afghanistan</td>\n",
       "      <td>2023</td>\n",
       "      <td>1992.424394</td>\n",
       "      <td>NaN</td>\n",
       "    </tr>\n",
       "    <tr>\n",
       "      <th>1</th>\n",
       "      <td>Afghanistan</td>\n",
       "      <td>2022</td>\n",
       "      <td>1981.710168</td>\n",
       "      <td>NaN</td>\n",
       "    </tr>\n",
       "    <tr>\n",
       "      <th>2</th>\n",
       "      <td>Afghanistan</td>\n",
       "      <td>2021</td>\n",
       "      <td>2144.166570</td>\n",
       "      <td>NaN</td>\n",
       "    </tr>\n",
       "    <tr>\n",
       "      <th>3</th>\n",
       "      <td>Afghanistan</td>\n",
       "      <td>2020</td>\n",
       "      <td>2769.685745</td>\n",
       "      <td>NaN</td>\n",
       "    </tr>\n",
       "    <tr>\n",
       "      <th>4</th>\n",
       "      <td>Afghanistan</td>\n",
       "      <td>2019</td>\n",
       "      <td>2927.245144</td>\n",
       "      <td>NaN</td>\n",
       "    </tr>\n",
       "    <tr>\n",
       "      <th>5</th>\n",
       "      <td>Afghanistan</td>\n",
       "      <td>2018</td>\n",
       "      <td>2902.392113</td>\n",
       "      <td>NaN</td>\n",
       "    </tr>\n",
       "    <tr>\n",
       "      <th>6</th>\n",
       "      <td>Afghanistan</td>\n",
       "      <td>2017</td>\n",
       "      <td>2952.998916</td>\n",
       "      <td>NaN</td>\n",
       "    </tr>\n",
       "    <tr>\n",
       "      <th>7</th>\n",
       "      <td>Afghanistan</td>\n",
       "      <td>2016</td>\n",
       "      <td>2958.785399</td>\n",
       "      <td>NaN</td>\n",
       "    </tr>\n",
       "    <tr>\n",
       "      <th>8</th>\n",
       "      <td>Afghanistan</td>\n",
       "      <td>2015</td>\n",
       "      <td>2967.692067</td>\n",
       "      <td>NaN</td>\n",
       "    </tr>\n",
       "    <tr>\n",
       "      <th>9</th>\n",
       "      <td>Afghanistan</td>\n",
       "      <td>2014</td>\n",
       "      <td>3017.942544</td>\n",
       "      <td>NaN</td>\n",
       "    </tr>\n",
       "  </tbody>\n",
       "</table>\n",
       "</div>"
      ],
      "text/plain": [
       "  Country or Area  Year        Value  Value Footnotes\n",
       "0     Afghanistan  2023  1992.424394              NaN\n",
       "1     Afghanistan  2022  1981.710168              NaN\n",
       "2     Afghanistan  2021  2144.166570              NaN\n",
       "3     Afghanistan  2020  2769.685745              NaN\n",
       "4     Afghanistan  2019  2927.245144              NaN\n",
       "5     Afghanistan  2018  2902.392113              NaN\n",
       "6     Afghanistan  2017  2952.998916              NaN\n",
       "7     Afghanistan  2016  2958.785399              NaN\n",
       "8     Afghanistan  2015  2967.692067              NaN\n",
       "9     Afghanistan  2014  3017.942544              NaN"
      ]
     },
     "execution_count": 3,
     "metadata": {},
     "output_type": "execute_result"
    }
   ],
   "source": [
    "gdp_df.head(10)"
   ]
  },
  {
   "cell_type": "code",
   "execution_count": 4,
   "id": "95505413-3f82-4642-9d28-8c2b6590504b",
   "metadata": {},
   "outputs": [
    {
     "data": {
      "text/html": [
       "<div>\n",
       "<style scoped>\n",
       "    .dataframe tbody tr th:only-of-type {\n",
       "        vertical-align: middle;\n",
       "    }\n",
       "\n",
       "    .dataframe tbody tr th {\n",
       "        vertical-align: top;\n",
       "    }\n",
       "\n",
       "    .dataframe thead th {\n",
       "        text-align: right;\n",
       "    }\n",
       "</style>\n",
       "<table border=\"1\" class=\"dataframe\">\n",
       "  <thead>\n",
       "    <tr style=\"text-align: right;\">\n",
       "      <th></th>\n",
       "      <th>Country or Area</th>\n",
       "      <th>Year</th>\n",
       "      <th>Value</th>\n",
       "      <th>Value Footnotes</th>\n",
       "    </tr>\n",
       "  </thead>\n",
       "  <tbody>\n",
       "    <tr>\n",
       "      <th>8209</th>\n",
       "      <td>Zimbabwe</td>\n",
       "      <td>1999</td>\n",
       "      <td>4238.195198</td>\n",
       "      <td>NaN</td>\n",
       "    </tr>\n",
       "    <tr>\n",
       "      <th>8210</th>\n",
       "      <td>Zimbabwe</td>\n",
       "      <td>1998</td>\n",
       "      <td>4342.858177</td>\n",
       "      <td>NaN</td>\n",
       "    </tr>\n",
       "    <tr>\n",
       "      <th>8211</th>\n",
       "      <td>Zimbabwe</td>\n",
       "      <td>1997</td>\n",
       "      <td>4304.406272</td>\n",
       "      <td>NaN</td>\n",
       "    </tr>\n",
       "    <tr>\n",
       "      <th>8212</th>\n",
       "      <td>Zimbabwe</td>\n",
       "      <td>1996</td>\n",
       "      <td>4271.479930</td>\n",
       "      <td>NaN</td>\n",
       "    </tr>\n",
       "    <tr>\n",
       "      <th>8213</th>\n",
       "      <td>Zimbabwe</td>\n",
       "      <td>1995</td>\n",
       "      <td>3935.280057</td>\n",
       "      <td>NaN</td>\n",
       "    </tr>\n",
       "    <tr>\n",
       "      <th>8214</th>\n",
       "      <td>Zimbabwe</td>\n",
       "      <td>1994</td>\n",
       "      <td>3965.730986</td>\n",
       "      <td>NaN</td>\n",
       "    </tr>\n",
       "    <tr>\n",
       "      <th>8215</th>\n",
       "      <td>Zimbabwe</td>\n",
       "      <td>1993</td>\n",
       "      <td>3634.750494</td>\n",
       "      <td>NaN</td>\n",
       "    </tr>\n",
       "    <tr>\n",
       "      <th>8216</th>\n",
       "      <td>Zimbabwe</td>\n",
       "      <td>1992</td>\n",
       "      <td>3649.891947</td>\n",
       "      <td>NaN</td>\n",
       "    </tr>\n",
       "    <tr>\n",
       "      <th>8217</th>\n",
       "      <td>Zimbabwe</td>\n",
       "      <td>1991</td>\n",
       "      <td>4126.405247</td>\n",
       "      <td>NaN</td>\n",
       "    </tr>\n",
       "    <tr>\n",
       "      <th>8218</th>\n",
       "      <td>Zimbabwe</td>\n",
       "      <td>1990</td>\n",
       "      <td>4013.299059</td>\n",
       "      <td>NaN</td>\n",
       "    </tr>\n",
       "  </tbody>\n",
       "</table>\n",
       "</div>"
      ],
      "text/plain": [
       "     Country or Area  Year        Value  Value Footnotes\n",
       "8209        Zimbabwe  1999  4238.195198              NaN\n",
       "8210        Zimbabwe  1998  4342.858177              NaN\n",
       "8211        Zimbabwe  1997  4304.406272              NaN\n",
       "8212        Zimbabwe  1996  4271.479930              NaN\n",
       "8213        Zimbabwe  1995  3935.280057              NaN\n",
       "8214        Zimbabwe  1994  3965.730986              NaN\n",
       "8215        Zimbabwe  1993  3634.750494              NaN\n",
       "8216        Zimbabwe  1992  3649.891947              NaN\n",
       "8217        Zimbabwe  1991  4126.405247              NaN\n",
       "8218        Zimbabwe  1990  4013.299059              NaN"
      ]
     },
     "execution_count": 4,
     "metadata": {},
     "output_type": "execute_result"
    }
   ],
   "source": [
    "gdp_df.tail(10)"
   ]
  },
  {
   "cell_type": "markdown",
   "id": "6354e6a6-7e3e-45e4-a2c3-fcfea5b59a70",
   "metadata": {},
   "source": [
    "### 5. Drop the 'Value Footnotes' column, and rename the remaining columns to 'Country', 'Year', and 'GDP_Per_Capita'."
   ]
  },
  {
   "cell_type": "code",
   "execution_count": 13,
   "id": "f669f28f-1c63-4460-af4d-680ffee1b527",
   "metadata": {},
   "outputs": [],
   "source": [
    "gdp_df = (\n",
    "    gdp_df\n",
    "        .drop(columns=['Value Footnotes'])\n",
    "        .rename(columns={'Country or Area': 'Country', 'Value': 'GDP_Per_Capita'})\n",
    ")"
   ]
  },
  {
   "cell_type": "markdown",
   "id": "94456c21-bc44-4a31-b800-8b3532c1e44b",
   "metadata": {},
   "source": [
    "### 6. How many rows and columns does gdp_df have?\n",
    "What are the data types of its columns?<br>\n",
    "If any of the columns are not the expected types, figure out why and fix it."
   ]
  },
  {
   "cell_type": "code",
   "execution_count": 14,
   "id": "8b80a4d4-ba35-45a5-8e90-086a267c831f",
   "metadata": {},
   "outputs": [
    {
     "data": {
      "text/plain": [
       "(8219, 3)"
      ]
     },
     "execution_count": 14,
     "metadata": {},
     "output_type": "execute_result"
    }
   ],
   "source": [
    "gdp_df.shape"
   ]
  },
  {
   "cell_type": "code",
   "execution_count": 15,
   "id": "13c1b04d-bc3c-485d-982f-11e179c11312",
   "metadata": {},
   "outputs": [
    {
     "name": "stdout",
     "output_type": "stream",
     "text": [
      "<class 'pandas.core.frame.DataFrame'>\n",
      "RangeIndex: 8219 entries, 0 to 8218\n",
      "Data columns (total 3 columns):\n",
      " #   Column          Non-Null Count  Dtype  \n",
      "---  ------          --------------  -----  \n",
      " 0   Country         8219 non-null   object \n",
      " 1   Year            8219 non-null   int64  \n",
      " 2   GDP_Per_Capita  8219 non-null   float64\n",
      "dtypes: float64(1), int64(1), object(1)\n",
      "memory usage: 192.8+ KB\n"
     ]
    }
   ],
   "source": [
    "gdp_df.info()"
   ]
  },
  {
   "cell_type": "markdown",
   "id": "2638f619-adad-4354-ae49-87d14c6152ba",
   "metadata": {},
   "source": [
    "### 7. Which years are represented in this dataset?\n",
    "Take a look at the number of observations per year.<br>\n",
    "What do you notice?"
   ]
  },
  {
   "cell_type": "code",
   "execution_count": 16,
   "id": "86b4aa2b-fff5-4e71-8635-1239edb30de5",
   "metadata": {},
   "outputs": [
    {
     "data": {
      "text/plain": [
       "array([1990, 1991, 1992, 1993, 1994, 1995, 1996, 1997, 1998, 1999, 2000,\n",
       "       2001, 2002, 2003, 2004, 2005, 2006, 2007, 2008, 2009, 2010, 2011,\n",
       "       2012, 2013, 2014, 2015, 2016, 2017, 2018, 2019, 2020, 2021, 2022,\n",
       "       2023])"
      ]
     },
     "execution_count": 16,
     "metadata": {},
     "output_type": "execute_result"
    }
   ],
   "source": [
    "np.sort(gdp_df['Year'].unique())"
   ]
  },
  {
   "cell_type": "code",
   "execution_count": 17,
   "id": "7e26f99f-3480-4326-a00b-721d068894c5",
   "metadata": {},
   "outputs": [
    {
     "data": {
      "image/png": "[encoded data removed]",
      "text/plain": [
       "<Figure size 640x480 with 1 Axes>"
      ]
     },
     "metadata": {},
     "output_type": "display_data"
    }
   ],
   "source": [
    "gdp_df.groupby(\"Year\")[\"GDP_Per_Capita\"].count().plot(kind=\"bar\");"
   ]
  },
  {
   "cell_type": "markdown",
   "id": "4e3cfd65-4b21-4793-bb51-2f3457f3d054",
   "metadata": {},
   "source": [
    "#### Answer: The number of observations per year are pretty evenly distributed."
   ]
  },
  {
   "cell_type": "markdown",
   "id": "d659cd5d-6b68-4867-8d98-e74395728785",
   "metadata": {},
   "source": [
    "### 8. How many countries are represented in this dataset?\n",
    "Which countries are least represented in the dataset?<br>\n",
    "Why do you think these countries have so few observations?"
   ]
  },
  {
   "cell_type": "code",
   "execution_count": 18,
   "id": "9e4b9adb-68a1-4fec-9c45-d49d6ed82374",
   "metadata": {},
   "outputs": [
    {
     "data": {
      "text/plain": [
       "247"
      ]
     },
     "execution_count": 18,
     "metadata": {},
     "output_type": "execute_result"
    }
   ],
   "source": [
    "len(gdp_df['Country'].unique())"
   ]
  },
  {
   "cell_type": "code",
   "execution_count": 38,
   "id": "d539d962-bcac-4cd4-8673-9f56931dbba3",
   "metadata": {},
   "outputs": [
    {
     "data": {
      "text/plain": [
       "Country\n",
       "Djibouti                       11\n",
       "Turks and Caicos Islands       13\n",
       "Sint Maarten (Dutch part)      15\n",
       "Faroe Islands                  16\n",
       "Kosovo                         16\n",
       "Cayman Islands                 18\n",
       "Virgin Islands                 21\n",
       "Afghanistan                    24\n",
       "CuraÃ§ao                       24\n",
       "San Marino                     26\n",
       "Montenegro                     27\n",
       "Serbia                         29\n",
       "West Bank and Gaza             30\n",
       "Greenland                      32\n",
       "Bhutan                         33\n",
       "Lebanon                        33\n",
       "Somalia                        33\n",
       "Syrian Arab Republic           33\n",
       "Tonga                          33\n",
       "Africa Eastern and Southern    34\n",
       "Name: GDP_Per_Capita, dtype: int64"
      ]
     },
     "execution_count": 38,
     "metadata": {},
     "output_type": "execute_result"
    }
   ],
   "source": [
    "unique_countries = (\n",
    "    gdp_df\n",
    "        .groupby('Country')\n",
    "        .count()\n",
    "        ['GDP_Per_Capita']\n",
    ")\n",
    "\n",
    "unique_countries.nsmallest(n=20)"
   ]
  },
  {
   "cell_type": "markdown",
   "id": "706272ae-0fc8-42eb-96c7-26ae106bf083",
   "metadata": {},
   "source": [
    "### 9. Create a new dataframe by subsetting gdp_df to just the year 2021. Call this new dataframe gdp_2021."
   ]
  },
  {
   "cell_type": "code",
   "execution_count": 41,
   "id": "a926049d-3586-4c79-be36-ea5a26824463",
   "metadata": {},
   "outputs": [
    {
     "data": {
      "text/html": [
       "<div>\n",
       "<style scoped>\n",
       "    .dataframe tbody tr th:only-of-type {\n",
       "        vertical-align: middle;\n",
       "    }\n",
       "\n",
       "    .dataframe tbody tr th {\n",
       "        vertical-align: top;\n",
       "    }\n",
       "\n",
       "    .dataframe thead th {\n",
       "        text-align: right;\n",
       "    }\n",
       "</style>\n",
       "<table border=\"1\" class=\"dataframe\">\n",
       "  <thead>\n",
       "    <tr style=\"text-align: right;\">\n",
       "      <th></th>\n",
       "      <th>Country</th>\n",
       "      <th>Year</th>\n",
       "      <th>GDP_Per_Capita</th>\n",
       "    </tr>\n",
       "  </thead>\n",
       "  <tbody>\n",
       "    <tr>\n",
       "      <th>2</th>\n",
       "      <td>Afghanistan</td>\n",
       "      <td>2021</td>\n",
       "      <td>2144.166570</td>\n",
       "    </tr>\n",
       "    <tr>\n",
       "      <th>26</th>\n",
       "      <td>Africa Eastern and Southern</td>\n",
       "      <td>2021</td>\n",
       "      <td>3934.287267</td>\n",
       "    </tr>\n",
       "    <tr>\n",
       "      <th>60</th>\n",
       "      <td>Africa Western and Central</td>\n",
       "      <td>2021</td>\n",
       "      <td>4698.926894</td>\n",
       "    </tr>\n",
       "    <tr>\n",
       "      <th>94</th>\n",
       "      <td>Albania</td>\n",
       "      <td>2021</td>\n",
       "      <td>16113.136519</td>\n",
       "    </tr>\n",
       "    <tr>\n",
       "      <th>128</th>\n",
       "      <td>Algeria</td>\n",
       "      <td>2021</td>\n",
       "      <td>14496.865470</td>\n",
       "    </tr>\n",
       "  </tbody>\n",
       "</table>\n",
       "</div>"
      ],
      "text/plain": [
       "                         Country  Year  GDP_Per_Capita\n",
       "2                    Afghanistan  2021     2144.166570\n",
       "26   Africa Eastern and Southern  2021     3934.287267\n",
       "60    Africa Western and Central  2021     4698.926894\n",
       "94                       Albania  2021    16113.136519\n",
       "128                      Algeria  2021    14496.865470"
      ]
     },
     "execution_count": 41,
     "metadata": {},
     "output_type": "execute_result"
    }
   ],
   "source": [
    "gdp_2021 = gdp_df[gdp_df['Year'] == 2021]\n",
    "gdp_2021.head()"
   ]
  },
  {
   "cell_type": "markdown",
   "id": "9b91ae49-0bcc-4336-a33f-abe481654bff",
   "metadata": {},
   "source": [
    "### 10. Use .describe() to find the summary statistics for GDP per capita in 2021."
   ]
  },
  {
   "cell_type": "code",
   "execution_count": 42,
   "id": "ecd34ff8-f0ed-45de-8639-967f948e2f8f",
   "metadata": {},
   "outputs": [
    {
     "data": {
      "text/plain": [
       "count       247.000000\n",
       "mean      24478.517262\n",
       "std       24601.525764\n",
       "min         836.665571\n",
       "25%        5996.532844\n",
       "50%       15900.976581\n",
       "75%       37298.776853\n",
       "max      135379.291201\n",
       "Name: GDP_Per_Capita, dtype: float64"
      ]
     },
     "execution_count": 42,
     "metadata": {},
     "output_type": "execute_result"
    }
   ],
   "source": [
    "gdp_2021['GDP_Per_Capita'].describe()"
   ]
  },
  {
   "cell_type": "markdown",
   "id": "21cad72d-43e7-4087-926d-37b3a5e2ed85",
   "metadata": {},
   "source": [
    "### 11. Create a histogram of GDP Per Capita numbers for 2021\n",
    "(you may wish to adjust the number of bins for your histogram). How would you describe the shape of the distribution?"
   ]
  },
  {
   "cell_type": "code",
   "execution_count": 43,
   "id": "9ca623c0-4acf-48df-94ef-88bc3258380f",
   "metadata": {},
   "outputs": [
    {
     "data": {
      "image/png": "[encoded data removed]",
      "text/plain": [
       "<Figure size 640x480 with 1 Axes>"
      ]
     },
     "metadata": {},
     "output_type": "display_data"
    }
   ],
   "source": [
    "gdp_2021['GDP_Per_Capita'].plot(kind='hist', bins=20);"
   ]
  },
  {
   "cell_type": "markdown",
   "id": "4e91198d-fa5e-4a15-b4c3-6dbbf7b55211",
   "metadata": {},
   "source": [
    "#### Answers:\n",
    "* The shape is right skewed"
   ]
  },
  {
   "cell_type": "markdown",
   "id": "087d59a0-09c0-4796-a6eb-672a757a234f",
   "metadata": {},
   "source": [
    "### 12. Find the top 5 counties and bottom 5 countries by GDP per capita in 2021."
   ]
  },
  {
   "cell_type": "code",
   "execution_count": 44,
   "id": "acb32fe2-394c-4f17-a571-5c50a20879fb",
   "metadata": {},
   "outputs": [
    {
     "data": {
      "text/html": [
       "<div>\n",
       "<style scoped>\n",
       "    .dataframe tbody tr th:only-of-type {\n",
       "        vertical-align: middle;\n",
       "    }\n",
       "\n",
       "    .dataframe tbody tr th {\n",
       "        vertical-align: top;\n",
       "    }\n",
       "\n",
       "    .dataframe thead th {\n",
       "        text-align: right;\n",
       "    }\n",
       "</style>\n",
       "<table border=\"1\" class=\"dataframe\">\n",
       "  <thead>\n",
       "    <tr style=\"text-align: right;\">\n",
       "      <th></th>\n",
       "      <th>Country</th>\n",
       "      <th>Year</th>\n",
       "      <th>GDP_Per_Capita</th>\n",
       "    </tr>\n",
       "  </thead>\n",
       "  <tbody>\n",
       "    <tr>\n",
       "      <th>4425</th>\n",
       "      <td>Luxembourg</td>\n",
       "      <td>2021</td>\n",
       "      <td>135379.291201</td>\n",
       "    </tr>\n",
       "    <tr>\n",
       "      <th>6513</th>\n",
       "      <td>Singapore</td>\n",
       "      <td>2021</td>\n",
       "      <td>131864.092336</td>\n",
       "    </tr>\n",
       "    <tr>\n",
       "      <th>3492</th>\n",
       "      <td>Ireland</td>\n",
       "      <td>2021</td>\n",
       "      <td>118594.746862</td>\n",
       "    </tr>\n",
       "    <tr>\n",
       "      <th>6118</th>\n",
       "      <td>Qatar</td>\n",
       "      <td>2021</td>\n",
       "      <td>116832.570290</td>\n",
       "    </tr>\n",
       "    <tr>\n",
       "      <th>740</th>\n",
       "      <td>Bermuda</td>\n",
       "      <td>2021</td>\n",
       "      <td>92276.234605</td>\n",
       "    </tr>\n",
       "  </tbody>\n",
       "</table>\n",
       "</div>"
      ],
      "text/plain": [
       "         Country  Year  GDP_Per_Capita\n",
       "4425  Luxembourg  2021   135379.291201\n",
       "6513   Singapore  2021   131864.092336\n",
       "3492     Ireland  2021   118594.746862\n",
       "6118       Qatar  2021   116832.570290\n",
       "740      Bermuda  2021    92276.234605"
      ]
     },
     "execution_count": 44,
     "metadata": {},
     "output_type": "execute_result"
    }
   ],
   "source": [
    "gdp_2021.nlargest(n=5, columns=\"GDP_Per_Capita\", keep='all')"
   ]
  },
  {
   "cell_type": "code",
   "execution_count": 45,
   "id": "8b572eea-73f8-4402-90e5-f730e28dc433",
   "metadata": {},
   "outputs": [
    {
     "data": {
      "text/html": [
       "<div>\n",
       "<style scoped>\n",
       "    .dataframe tbody tr th:only-of-type {\n",
       "        vertical-align: middle;\n",
       "    }\n",
       "\n",
       "    .dataframe tbody tr th {\n",
       "        vertical-align: top;\n",
       "    }\n",
       "\n",
       "    .dataframe thead th {\n",
       "        text-align: right;\n",
       "    }\n",
       "</style>\n",
       "<table border=\"1\" class=\"dataframe\">\n",
       "  <thead>\n",
       "    <tr style=\"text-align: right;\">\n",
       "      <th></th>\n",
       "      <th>Country</th>\n",
       "      <th>Year</th>\n",
       "      <th>GDP_Per_Capita</th>\n",
       "    </tr>\n",
       "  </thead>\n",
       "  <tbody>\n",
       "    <tr>\n",
       "      <th>1045</th>\n",
       "      <td>Burundi</td>\n",
       "      <td>2021</td>\n",
       "      <td>836.665571</td>\n",
       "    </tr>\n",
       "    <tr>\n",
       "      <th>1301</th>\n",
       "      <td>Central African Republic</td>\n",
       "      <td>2021</td>\n",
       "      <td>1128.552380</td>\n",
       "    </tr>\n",
       "    <tr>\n",
       "      <th>1733</th>\n",
       "      <td>Dem. Rep. Congo</td>\n",
       "      <td>2021</td>\n",
       "      <td>1313.618218</td>\n",
       "    </tr>\n",
       "    <tr>\n",
       "      <th>6698</th>\n",
       "      <td>Somalia</td>\n",
       "      <td>2021</td>\n",
       "      <td>1392.464262</td>\n",
       "    </tr>\n",
       "    <tr>\n",
       "      <th>5132</th>\n",
       "      <td>Mozambique</td>\n",
       "      <td>2021</td>\n",
       "      <td>1457.235409</td>\n",
       "    </tr>\n",
       "  </tbody>\n",
       "</table>\n",
       "</div>"
      ],
      "text/plain": [
       "                       Country  Year  GDP_Per_Capita\n",
       "1045                   Burundi  2021      836.665571\n",
       "1301  Central African Republic  2021     1128.552380\n",
       "1733           Dem. Rep. Congo  2021     1313.618218\n",
       "6698                   Somalia  2021     1392.464262\n",
       "5132                Mozambique  2021     1457.235409"
      ]
     },
     "execution_count": 45,
     "metadata": {},
     "output_type": "execute_result"
    }
   ],
   "source": [
    "gdp_2021.nsmallest(n=5, columns=\"GDP_Per_Capita\", keep='all')"
   ]
  },
  {
   "cell_type": "markdown",
   "id": "ba430997-56b0-44e8-806c-8b8fe557b688",
   "metadata": {},
   "source": [
    "### 13. Now, return to the full dataset, gdp_df.\n",
    "Pivot the data for 1990 and 2021 (using the pandas .pivot_table() method or another method) so that each row corresponds to a country, each column corresponds to a year, and the values in the table give the GDP_Per_Capita amount. Drop any rows that are missing values for either 1990 or 2021. Save the result to a dataframe named gdp_pivoted."
   ]
  },
  {
   "cell_type": "code",
   "execution_count": 47,
   "id": "40463b36-e011-4b75-bcad-f26361679cd1",
   "metadata": {},
   "outputs": [],
   "source": [
    "gdp_pivoted = (\n",
    "    gdp_df\n",
    "        [(gdp_df['Year'] == 1990) | (gdp_df['Year'] == 2021)]\n",
    "        .pivot_table(values='GDP_Per_Capita', index=['Country'], columns=['Year'])\n",
    "        .dropna()\n",
    ")"
   ]
  },
  {
   "cell_type": "markdown",
   "id": "256ca671-9757-4c78-bec1-45c404148e3b",
   "metadata": {},
   "source": [
    "### 14. Create a new column in gdp_pivoted named Percent_Change.\n",
    "This column should contain the percent change in GDP_Per_Capita from 1990 to 2021. Hint: Percent change is calculated as 100*(New Value - Old Value) / Old Value."
   ]
  },
  {
   "cell_type": "code",
   "execution_count": 48,
   "id": "91738635-f2d9-4c10-9fda-e7a51930895a",
   "metadata": {},
   "outputs": [
    {
     "data": {
      "text/html": [
       "<div>\n",
       "<style scoped>\n",
       "    .dataframe tbody tr th:only-of-type {\n",
       "        vertical-align: middle;\n",
       "    }\n",
       "\n",
       "    .dataframe tbody tr th {\n",
       "        vertical-align: top;\n",
       "    }\n",
       "\n",
       "    .dataframe thead th {\n",
       "        text-align: right;\n",
       "    }\n",
       "</style>\n",
       "<table border=\"1\" class=\"dataframe\">\n",
       "  <thead>\n",
       "    <tr style=\"text-align: right;\">\n",
       "      <th>Year</th>\n",
       "      <th>1990</th>\n",
       "      <th>2021</th>\n",
       "      <th>Percent_Change</th>\n",
       "    </tr>\n",
       "    <tr>\n",
       "      <th>Country</th>\n",
       "      <th></th>\n",
       "      <th></th>\n",
       "      <th></th>\n",
       "    </tr>\n",
       "  </thead>\n",
       "  <tbody>\n",
       "    <tr>\n",
       "      <th>Africa Eastern and Southern</th>\n",
       "      <td>3386.854480</td>\n",
       "      <td>3934.287267</td>\n",
       "      <td>16.163458</td>\n",
       "    </tr>\n",
       "    <tr>\n",
       "      <th>Africa Western and Central</th>\n",
       "      <td>3299.401375</td>\n",
       "      <td>4698.926894</td>\n",
       "      <td>42.417559</td>\n",
       "    </tr>\n",
       "    <tr>\n",
       "      <th>Albania</th>\n",
       "      <td>5327.747458</td>\n",
       "      <td>16113.136519</td>\n",
       "      <td>202.438069</td>\n",
       "    </tr>\n",
       "    <tr>\n",
       "      <th>Algeria</th>\n",
       "      <td>11728.545729</td>\n",
       "      <td>14496.865470</td>\n",
       "      <td>23.603265</td>\n",
       "    </tr>\n",
       "    <tr>\n",
       "      <th>Andorra</th>\n",
       "      <td>50036.300776</td>\n",
       "      <td>59332.202910</td>\n",
       "      <td>18.578316</td>\n",
       "    </tr>\n",
       "  </tbody>\n",
       "</table>\n",
       "</div>"
      ],
      "text/plain": [
       "Year                                 1990          2021  Percent_Change\n",
       "Country                                                                \n",
       "Africa Eastern and Southern   3386.854480   3934.287267       16.163458\n",
       "Africa Western and Central    3299.401375   4698.926894       42.417559\n",
       "Albania                       5327.747458  16113.136519      202.438069\n",
       "Algeria                      11728.545729  14496.865470       23.603265\n",
       "Andorra                      50036.300776  59332.202910       18.578316"
      ]
     },
     "execution_count": 48,
     "metadata": {},
     "output_type": "execute_result"
    }
   ],
   "source": [
    "gdp_pivoted['Percent_Change'] = 100 * (gdp_pivoted[2021] - gdp_pivoted[1990]) / gdp_pivoted[1990]\n",
    "gdp_pivoted.head()"
   ]
  },
  {
   "cell_type": "markdown",
   "id": "77bd9377-15c0-4f20-bcd2-6dded52c90db",
   "metadata": {},
   "source": [
    "### 15. How many countries experienced a negative percent change in GDP per capita from 1990 to 2021?"
   ]
  },
  {
   "cell_type": "code",
   "execution_count": 49,
   "id": "5515cdbb-2486-4f36-ac8b-815e5c8c49c0",
   "metadata": {},
   "outputs": [
    {
     "data": {
      "text/plain": [
       "np.int64(23)"
      ]
     },
     "execution_count": 49,
     "metadata": {},
     "output_type": "execute_result"
    }
   ],
   "source": [
    "(gdp_pivoted['Percent_Change'] < 0).sum()"
   ]
  },
  {
   "cell_type": "markdown",
   "id": "23eb2d6a-b2dc-452e-8578-813a22d71ce7",
   "metadata": {},
   "source": [
    "### 16. Which country had the highest % change in GDP per capita?\n",
    "Create a line plot showing this country's GDP per capita for all years from 1990 to 2018. Create another showing the country with the second highest % change in GDP. How do the trends in these countries compare?\n",
    "Bonus: Put both line charts on the same plot."
   ]
  },
  {
   "cell_type": "code",
   "execution_count": 50,
   "id": "8c727710-aace-4555-b4c1-eee6ef066767",
   "metadata": {},
   "outputs": [
    {
     "data": {
      "text/html": [
       "<div>\n",
       "<style scoped>\n",
       "    .dataframe tbody tr th:only-of-type {\n",
       "        vertical-align: middle;\n",
       "    }\n",
       "\n",
       "    .dataframe tbody tr th {\n",
       "        vertical-align: top;\n",
       "    }\n",
       "\n",
       "    .dataframe thead th {\n",
       "        text-align: right;\n",
       "    }\n",
       "</style>\n",
       "<table border=\"1\" class=\"dataframe\">\n",
       "  <thead>\n",
       "    <tr style=\"text-align: right;\">\n",
       "      <th>Year</th>\n",
       "      <th>1990</th>\n",
       "      <th>2021</th>\n",
       "      <th>Percent_Change</th>\n",
       "    </tr>\n",
       "    <tr>\n",
       "      <th>Country</th>\n",
       "      <th></th>\n",
       "      <th></th>\n",
       "      <th></th>\n",
       "    </tr>\n",
       "  </thead>\n",
       "  <tbody>\n",
       "    <tr>\n",
       "      <th>Equatorial Guinea</th>\n",
       "      <td>1122.817674</td>\n",
       "      <td>16821.448647</td>\n",
       "      <td>1398.146052</td>\n",
       "    </tr>\n",
       "    <tr>\n",
       "      <th>China</th>\n",
       "      <td>1645.578944</td>\n",
       "      <td>20406.729658</td>\n",
       "      <td>1140.094237</td>\n",
       "    </tr>\n",
       "  </tbody>\n",
       "</table>\n",
       "</div>"
      ],
      "text/plain": [
       "Year                      1990          2021  Percent_Change\n",
       "Country                                                     \n",
       "Equatorial Guinea  1122.817674  16821.448647     1398.146052\n",
       "China              1645.578944  20406.729658     1140.094237"
      ]
     },
     "execution_count": 50,
     "metadata": {},
     "output_type": "execute_result"
    }
   ],
   "source": [
    "top_2_countries = gdp_pivoted.nlargest(n=2, columns='Percent_Change')\n",
    "top_2_countries.head()"
   ]
  },
  {
   "cell_type": "code",
   "execution_count": 53,
   "id": "56b1705c-b084-4784-995d-0cd890711032",
   "metadata": {},
   "outputs": [
    {
     "data": {
      "image/png": "[encoded data removed]",
      "text/plain": [
       "<Figure size 640x480 with 1 Axes>"
      ]
     },
     "metadata": {},
     "output_type": "display_data"
    }
   ],
   "source": [
    "for country in top_2_countries.index:\n",
    "    plt.plot(\n",
    "        'Year',\n",
    "        'GDP_Per_Capita',\n",
    "        data=(\n",
    "            gdp_df\n",
    "                .loc[gdp_df['Country'] == country]\n",
    "                .loc[(gdp_df['Year'] >= 1990) & (gdp_df['Year'] <= 2021)]),\n",
    "        label=country\n",
    "    )\n",
    "plt.legend();\n",
    "# plt.show();"
   ]
  },
  {
   "cell_type": "markdown",
   "id": "f83b0614-882b-4bbc-8aa2-2fca2b05ecea",
   "metadata": {},
   "source": [
    "### 17. Read in continents.csv contained in the data folder into a new dataframe called continents.\n",
    "We will be using this dataframe to add a new column to our dataset."
   ]
  },
  {
   "cell_type": "code",
   "execution_count": 54,
   "id": "570985ea-a4e1-4738-adf1-00eac1e97987",
   "metadata": {},
   "outputs": [
    {
     "data": {
      "text/html": [
       "<div>\n",
       "<style scoped>\n",
       "    .dataframe tbody tr th:only-of-type {\n",
       "        vertical-align: middle;\n",
       "    }\n",
       "\n",
       "    .dataframe tbody tr th {\n",
       "        vertical-align: top;\n",
       "    }\n",
       "\n",
       "    .dataframe thead th {\n",
       "        text-align: right;\n",
       "    }\n",
       "</style>\n",
       "<table border=\"1\" class=\"dataframe\">\n",
       "  <thead>\n",
       "    <tr style=\"text-align: right;\">\n",
       "      <th></th>\n",
       "      <th>Continent</th>\n",
       "      <th>Country</th>\n",
       "    </tr>\n",
       "  </thead>\n",
       "  <tbody>\n",
       "    <tr>\n",
       "      <th>0</th>\n",
       "      <td>Asia</td>\n",
       "      <td>Afghanistan</td>\n",
       "    </tr>\n",
       "    <tr>\n",
       "      <th>1</th>\n",
       "      <td>Europe</td>\n",
       "      <td>Albania</td>\n",
       "    </tr>\n",
       "    <tr>\n",
       "      <th>2</th>\n",
       "      <td>Africa</td>\n",
       "      <td>Algeria</td>\n",
       "    </tr>\n",
       "    <tr>\n",
       "      <th>3</th>\n",
       "      <td>Europe</td>\n",
       "      <td>Andorra</td>\n",
       "    </tr>\n",
       "    <tr>\n",
       "      <th>4</th>\n",
       "      <td>Africa</td>\n",
       "      <td>Angola</td>\n",
       "    </tr>\n",
       "  </tbody>\n",
       "</table>\n",
       "</div>"
      ],
      "text/plain": [
       "  Continent      Country\n",
       "0      Asia  Afghanistan\n",
       "1    Europe      Albania\n",
       "2    Africa      Algeria\n",
       "3    Europe      Andorra\n",
       "4    Africa       Angola"
      ]
     },
     "execution_count": 54,
     "metadata": {},
     "output_type": "execute_result"
    }
   ],
   "source": [
    "continents_df = pd.read_csv('../data/continents.csv')\n",
    "continents_df.head()"
   ]
  },
  {
   "cell_type": "markdown",
   "id": "9747e838-9a6e-47bd-b67b-4c8fb778b806",
   "metadata": {},
   "source": [
    "### 18. Merge gdp_df and continents. Keep only the countries that appear in both data frames.\n",
    "Save the result back to gdp_df."
   ]
  },
  {
   "cell_type": "code",
   "execution_count": 56,
   "id": "0f48c329-643e-44f0-abad-06689e0f1203",
   "metadata": {},
   "outputs": [
    {
     "data": {
      "text/html": [
       "<div>\n",
       "<style scoped>\n",
       "    .dataframe tbody tr th:only-of-type {\n",
       "        vertical-align: middle;\n",
       "    }\n",
       "\n",
       "    .dataframe tbody tr th {\n",
       "        vertical-align: top;\n",
       "    }\n",
       "\n",
       "    .dataframe thead th {\n",
       "        text-align: right;\n",
       "    }\n",
       "</style>\n",
       "<table border=\"1\" class=\"dataframe\">\n",
       "  <thead>\n",
       "    <tr style=\"text-align: right;\">\n",
       "      <th></th>\n",
       "      <th>Country</th>\n",
       "      <th>Year</th>\n",
       "      <th>GDP_Per_Capita</th>\n",
       "      <th>Continent</th>\n",
       "    </tr>\n",
       "  </thead>\n",
       "  <tbody>\n",
       "    <tr>\n",
       "      <th>0</th>\n",
       "      <td>Afghanistan</td>\n",
       "      <td>2023</td>\n",
       "      <td>1992.424394</td>\n",
       "      <td>Asia</td>\n",
       "    </tr>\n",
       "    <tr>\n",
       "      <th>1</th>\n",
       "      <td>Afghanistan</td>\n",
       "      <td>2022</td>\n",
       "      <td>1981.710168</td>\n",
       "      <td>Asia</td>\n",
       "    </tr>\n",
       "    <tr>\n",
       "      <th>2</th>\n",
       "      <td>Afghanistan</td>\n",
       "      <td>2021</td>\n",
       "      <td>2144.166570</td>\n",
       "      <td>Asia</td>\n",
       "    </tr>\n",
       "    <tr>\n",
       "      <th>3</th>\n",
       "      <td>Afghanistan</td>\n",
       "      <td>2020</td>\n",
       "      <td>2769.685745</td>\n",
       "      <td>Asia</td>\n",
       "    </tr>\n",
       "    <tr>\n",
       "      <th>4</th>\n",
       "      <td>Afghanistan</td>\n",
       "      <td>2019</td>\n",
       "      <td>2927.245144</td>\n",
       "      <td>Asia</td>\n",
       "    </tr>\n",
       "  </tbody>\n",
       "</table>\n",
       "</div>"
      ],
      "text/plain": [
       "       Country  Year  GDP_Per_Capita Continent\n",
       "0  Afghanistan  2023     1992.424394      Asia\n",
       "1  Afghanistan  2022     1981.710168      Asia\n",
       "2  Afghanistan  2021     2144.166570      Asia\n",
       "3  Afghanistan  2020     2769.685745      Asia\n",
       "4  Afghanistan  2019     2927.245144      Asia"
      ]
     },
     "execution_count": 56,
     "metadata": {},
     "output_type": "execute_result"
    }
   ],
   "source": [
    "gdp_df = gdp_df.merge(right=continents_df, how='inner', on='Country')\n",
    "gdp_df.head()"
   ]
  },
  {
   "cell_type": "markdown",
   "id": "8575d3a9-b1d1-4660-8bdb-68d7783aa2ee",
   "metadata": {},
   "source": [
    "### 19. Determine the number of countries per continent.\n",
    "Create a bar chart showing this."
   ]
  },
  {
   "cell_type": "code",
   "execution_count": 58,
   "id": "8ad04daf-7d8d-4d8d-94be-eba4285a7bc0",
   "metadata": {},
   "outputs": [
    {
     "data": {
      "text/plain": [
       "Continent\n",
       "Africa           50\n",
       "Asia             41\n",
       "Europe           45\n",
       "North America    26\n",
       "Oceania          14\n",
       "Name: Country, dtype: int64"
      ]
     },
     "execution_count": 58,
     "metadata": {},
     "output_type": "execute_result"
    }
   ],
   "source": [
    "countries_per_continent = gdp_df.groupby('Continent')['Country'].nunique()\n",
    "countries_per_continent.head()"
   ]
  },
  {
   "cell_type": "code",
   "execution_count": 59,
   "id": "4a4c3f39-dc02-4cfd-8829-64e92e5fb0a2",
   "metadata": {},
   "outputs": [
    {
     "data": {
      "text/plain": [
       "<Axes: xlabel='Continent'>"
      ]
     },
     "execution_count": 59,
     "metadata": {},
     "output_type": "execute_result"
    },
    {
     "data": {
      "image/png": "[encoded data removed]",
      "text/plain": [
       "<Figure size 640x480 with 1 Axes>"
      ]
     },
     "metadata": {},
     "output_type": "display_data"
    }
   ],
   "source": [
    "countries_per_continent.plot(kind='bar')"
   ]
  },
  {
   "cell_type": "markdown",
   "id": "16b2692c-46f1-418d-9e26-92c5ea873e9a",
   "metadata": {},
   "source": [
    "### 20. Create a seaborn boxplot showing GDP per capita in 2021 split out by continent.\n",
    "What do you notice?"
   ]
  },
  {
   "cell_type": "code",
   "execution_count": 92,
   "id": "c0ce2faa-0b2b-4707-94b6-06ce57e030d1",
   "metadata": {},
   "outputs": [
    {
     "data": {
      "text/plain": [
       "<Axes: xlabel='GDP_Per_Capita', ylabel='Continent'>"
      ]
     },
     "execution_count": 92,
     "metadata": {},
     "output_type": "execute_result"
    },
    {
     "data": {
      "image/png": "[encoded data removed]",
      "text/plain": [
       "<Figure size 640x480 with 1 Axes>"
      ]
     },
     "metadata": {},
     "output_type": "display_data"
    }
   ],
   "source": [
    "sns.boxplot(\n",
    "    data=gdp_df[gdp_df['Year'] == 2021].sort_values(by='Continent'),\n",
    "    x='GDP_Per_Capita',\n",
    "    y='Continent'\n",
    ")"
   ]
  },
  {
   "cell_type": "markdown",
   "id": "76441bda-13ee-4b4b-aa0d-1a60040646ab",
   "metadata": {},
   "source": [
    "#### ANSWER: The data looks as I expected."
   ]
  },
  {
   "cell_type": "markdown",
   "id": "4a54635d-9bf9-4104-9d6e-f925445dd87f",
   "metadata": {},
   "source": [
    "### 21. Download the full csv containing Life expectancy at birth, total (years) from https://data.worldbank.org/indicator/SP.DYN.LE00.IN?name_desc=false.\n",
    "Read this data into a DataFrame named life_expectancy. Note: When reading this dataset it, you may encounter an error. Modify your read_csv call to correct this without modifying the original csv file."
   ]
  },
  {
   "cell_type": "markdown",
   "id": "26b1d810-1da8-4066-845b-15ed29af9b1a",
   "metadata": {},
   "source": [
    "### 22. Drop the Country Code, Indicator Name, and Indicator Code columns.\n",
    "Then use .melt() to convert your data from wide to long. That is, instead of having one row per country and multiple colums per year, we want to have multiple rows per country and a single column for year. After melting, rename the columns to Country, Year, and Life_Expectancy."
   ]
  },
  {
   "cell_type": "markdown",
   "id": "7edb6ab6-2eb3-4112-a639-221c71649980",
   "metadata": {},
   "source": [
    "### 23. What was the first country with a life expectancy to exceed 80?"
   ]
  },
  {
   "cell_type": "markdown",
   "id": "208ffa14-09a4-4c95-b79c-cf1e25887d76",
   "metadata": {},
   "source": [
    "### 24. Merge gdp_df and life_expectancy, keeping all countries and years that appear in both DataFrames.\n",
    "Save the result to a new DataFrame named gdp_le. If you get any errors in doing this, read them carefully and correct them. Look at the first five rows of your new data frame to confirm it merged correctly. Also, check the last five rows to make sure the data is clean and as expected."
   ]
  },
  {
   "cell_type": "markdown",
   "id": "b1458eae-d8a5-4734-a90e-23d4daf4bf12",
   "metadata": {},
   "source": [
    "### 25. Create a new DataFrame, named gdp_le_2021 by extracting data for the year 2021 from gdp_le.\n",
    "How many countries have a life expectancy of at least 80 in 2021?"
   ]
  },
  {
   "cell_type": "markdown",
   "id": "75bd993b-330d-41dc-b3c9-dfd626bf9874",
   "metadata": {},
   "source": [
    "### 26. Find the countries that had the top 3 largest GDP per capita figures for 2021.\n",
    "Create a seaborn FacetGrid showing the change in life expectancy over time for these three countries. Each individual figure in the facet grid will represent a single country."
   ]
  },
  {
   "cell_type": "markdown",
   "id": "0a26faea-decd-4d57-9e20-a283764f3a1a",
   "metadata": {},
   "source": [
    "### 27. Create a scatter plot of Life Expectancy vs GDP per Capita for the year 2021. What do you notice?"
   ]
  },
  {
   "cell_type": "markdown",
   "id": "e4da999f-1ef0-4ba5-a034-363fc9a6e774",
   "metadata": {},
   "source": [
    "### 28. Find the correlation between Life Expectancy and GDP per Capita for the year 2021.\n",
    "What is the meaning of this number?"
   ]
  },
  {
   "cell_type": "markdown",
   "id": "9f14dcfe-0409-4844-9c9c-e6443ebd36ff",
   "metadata": {},
   "source": [
    "### 29. Add a column to gdp_le_2021 and calculate the logarithm of GDP per capita.\n",
    "Find the correlation between the log of GDP per capita and life expectancy. How does this compare to the calculation in the previous part? Look at a scatter plot to see if the result of this calculation makes sense."
   ]
  },
  {
   "cell_type": "markdown",
   "id": "a31ecbb2-9c9d-47c2-8a3f-72dcff646a55",
   "metadata": {},
   "source": [
    "## Bonus: Solo Exploration:\n",
    "### 1. Choose and download another data set from the UN data http://data.un.org/Explorer.aspx to explore.\n",
    "You may want to combine your new dataset with one or both of the datasets that you already worked with. Report any interesting correlations or trends that you find."
   ]
  },
  {
   "cell_type": "markdown",
   "id": "92f149b2-d2a8-4c49-9a0a-11d584675374",
   "metadata": {},
   "source": [
    "### 2. If time allows, check out the plotly library to add additional interativity to your plots.\n",
    "https://plotly.com/python/plotly-express/."
   ]
  },
  {
   "cell_type": "code",
   "execution_count": null,
   "id": "86060074-4970-4360-94b1-3a34f0f3f348",
   "metadata": {},
   "outputs": [],
   "source": []
  }
 ],
 "metadata": {
  "kernelspec": {
   "display_name": "Python [conda env:base] *",
   "language": "python",
   "name": "conda-base-py"
  },
  "language_info": {
   "codemirror_mode": {
    "name": "ipython",
    "version": 3
   },
   "file_extension": ".py",
   "mimetype": "text/x-python",
   "name": "python",
   "nbconvert_exporter": "python",
   "pygments_lexer": "ipython3",
   "version": "3.13.5"
  }
 },
 "nbformat": 4,
 "nbformat_minor": 5
}
